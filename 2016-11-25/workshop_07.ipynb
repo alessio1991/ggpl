{
 "cells": [
  {
   "cell_type": "markdown",
   "metadata": {},
   "source": [
    "<h1>Design of modern door and glass and pvc window</h1>"
   ]
  },
  {
   "cell_type": "markdown",
   "metadata": {},
   "source": [
    "<h2>Reference models</h2>\n",
    "![alt text](images/door-model.jpg)\n",
    "![alt text](images/window-model.jpg)"
   ]
  },
  {
   "cell_type": "markdown",
   "metadata": {},
   "source": [
    "<h4>Variables:</h4> <b>length:</b>the length of the X list, <b>door:</b>auxiliar list to create step by step the door, \n",
    "            <b>vector:</b> occupancy's copy, \n",
    "            <b>cont:</b> the index of the for of Z, \n",
    "                <b>prodXY and prodXYZ:</b> cartesian product, \n",
    "                <b>handle:</b> CUBOID represent the handle, \n",
    "                <b>dim:</b> calculate the dimension of the object, necessary for the scale."
   ]
  },
  {
   "cell_type": "markdown",
   "metadata": {},
   "source": [
    "<h4>Description of the geometric methods i'm going to implement:</h4>\n",
    "I have defined two second-level functions, one for the creation of a modern port, and the other for create a glass and pvc window. First, however, i defined a helper function to calculate the length of a list. The two functions are very similar to each other. Initially I slide arrays of X and Z, and control the boolean values in occupancy. If it is 1, it means that I will have to define the \"frame\", if it is 0 then put the glass (all appropriately colored). The construction of frames and glasses is given by combinations of PROD added in a list, which in the end i'm going to put in a STRUCT for the hpc object to be passed to the main function. The STRUCT will also have the handle, defined as a CUBOID appropriately traslated to half of the door or window. Before returning the hpc object, scale all to keep the right proportions of the window or door according to dx, dy, dz passed as parameters."
   ]
  },
  {
   "cell_type": "markdown",
   "metadata": {},
   "source": [
    "Import library"
   ]
  },
  {
   "cell_type": "code",
   "execution_count": 1,
   "metadata": {
    "collapsed": false
   },
   "outputs": [
    {
     "name": "stdout",
     "output_type": "stream",
     "text": [
      "Evaluating fenvs.py..\n",
      "...fenvs.py imported in 0.00624798816927 seconds\n"
     ]
    }
   ],
   "source": [
    "from pyplasm import *"
   ]
  },
  {
   "cell_type": "markdown",
   "metadata": {},
   "source": [
    "<h4>DOOR</h4>"
   ]
  },
  {
   "cell_type": "markdown",
   "metadata": {},
   "source": [
    "4 formal parameters. \n",
    "X, Y, Z, corresponding to lateral quotes, of type [float] and occupancy, of type [bool]. That are for create the door"
   ]
  },
  {
   "cell_type": "code",
   "execution_count": 2,
   "metadata": {
    "collapsed": true
   },
   "outputs": [],
   "source": [
    "X=[.2,.05,.15,.2,.5,.3,.1]\n",
    "Y=[.05]\n",
    "Z=[.1,.2,.1,.2,.1,.2,.1,.2,.1,.2,.1,.2,.1,.2,.1]\n",
    "occupancy=[[1,1,1,1,1,1,1],\n",
    "           [1,1,1,1,1,0,1],\n",
    "           [1,0,1,1,1,0,1],\n",
    "           [1,0,1,0,1,0,1],\n",
    "           [1,0,1,1,1,0,1],\n",
    "           [1,0,1,0,1,0,1],\n",
    "           [1,0,1,1,1,0,1],\n",
    "           [1,0,1,0,1,0,1],\n",
    "           [1,0,1,1,1,0,1],\n",
    "           [1,0,1,0,1,0,1],\n",
    "           [1,0,1,1,1,0,1],\n",
    "           [1,0,1,0,1,0,1],\n",
    "           [1,0,1,1,1,0,1],\n",
    "           [1,1,1,1,1,0,1],\n",
    "           [1,1,1,1,1,1,1]]\n",
    "\n",
    "glassDepth = .03 #glass's depth"
   ]
  },
  {
   "cell_type": "markdown",
   "metadata": {},
   "source": [
    "Define function's support to calculate the list's lenght"
   ]
  },
  {
   "cell_type": "code",
   "execution_count": 3,
   "metadata": {
    "collapsed": true
   },
   "outputs": [],
   "source": [
    "def getLength(list):\n",
    "    length = 0\n",
    "    for elem in list:\n",
    "        length = length + elem\n",
    "    return length"
   ]
  },
  {
   "cell_type": "markdown",
   "metadata": {},
   "source": [
    "Main parametric function to create the modern door"
   ]
  },
  {
   "cell_type": "code",
   "execution_count": 4,
   "metadata": {
    "collapsed": false
   },
   "outputs": [],
   "source": [
    "\"\"\"Input: X, Y, Z (corresponding to lateral quotes of type [float]), occupancy of type [bool]\n",
    "   Output: hpc object\"\"\"\n",
    "def door(X,Y,Z,occupancy):\n",
    "    \n",
    "    \"\"\"Input: dx,dy,dz for box dimensioning, of type float\n",
    "       Output: hpc object\"\"\"\n",
    "    def doorAux(dx,dy,dz):           \n",
    "                  \n",
    "        length = getLength(X)\n",
    "        door = []        \n",
    "        \n",
    "        for zI in range(0,len(Z)):\n",
    "            \n",
    "            vector = occupancy[zI]\n",
    "            cont = 0\n",
    "            \n",
    "            #slide boolean array\n",
    "            for xI in vector:\n",
    "                \n",
    "                #if boolean is true, generate the door's frame\n",
    "                #in the list i append color and the cartesian product of the lateral quotes\n",
    "                if xI==1:\n",
    "                    door.append(COLOR([150/255.,16/255.,33/255.]))\n",
    "                    prodXY = PROD([QUOTE([X[cont]]),QUOTE(Y)])\n",
    "                    prodXYZ = PROD([prodXY,QUOTE([Z[zI]])])\n",
    "                    door.append(prodXYZ)\n",
    "                    \n",
    "                #if boolean is false, generate the screen\n",
    "                if xI==0:\n",
    "                    door.append(COLOR([205/255.,248/255.,250/255.]))\n",
    "                    prod1 = PROD([QUOTE([X[cont]]),QUOTE([glassDepth])])\n",
    "                    prod2 = PROD([prod1,QUOTE([Z[zI]])])\n",
    "                    door.append(T([1,2,3])([0,Y[0]/2-glassDepth/2,0]))\n",
    "                    door.append(prod2)\n",
    "                    door.append(T([1,2,3])([0,-Y[0]/2+glassDepth/2,0])) \n",
    "                    \n",
    "                door.append(T([1,2,3])([X[cont],0,0]))\n",
    "                cont = cont+1                \n",
    "            \n",
    "            door.append(T([1,2,3])([-length,0,Z[zI]]))\n",
    "        \n",
    "        #define door's handle, opportunely colorated and traslate\n",
    "        door.append(COLOR([224/255.,224/255.,224/255.,1]))\n",
    "        door.append(T([1,2,3])([.03,-.01,-getLength(Z)/2]))\n",
    "        handle = CUBOID([.05,.05,.05])\n",
    "        door.append(handle)\n",
    "        \n",
    "        #generate the STRUCT of door starting by list complete before\n",
    "        door=STRUCT(door)\n",
    "        \n",
    "        #scale the door\n",
    "        dim=[dx/SIZE(1)(door),dy/SIZE(2)(door),dz/SIZE(3)(door)]\n",
    "        door= STRUCT([S([1,2,3])(dim),door])\n",
    "        \n",
    "        #return hpc object to used in the main function\n",
    "        return door\n",
    "    \n",
    "    #return final hpc object to view\n",
    "    return doorAux"
   ]
  },
  {
   "cell_type": "markdown",
   "metadata": {},
   "source": [
    "Launch function to create modern door"
   ]
  },
  {
   "cell_type": "code",
   "execution_count": 5,
   "metadata": {
    "collapsed": false
   },
   "outputs": [
    {
     "data": {
      "text/plain": [
       "<pyplasm.xgepy.Hpc; proxy of <Swig Object of type 'std::shared_ptr< Hpc > *' at 0x000000000B149B40> >"
      ]
     },
     "execution_count": 5,
     "metadata": {},
     "output_type": "execute_result"
    }
   ],
   "source": [
    "door=door(X,Y,Z,occupancy)(1.5,.05,2.2)\n",
    "VIEW(door)"
   ]
  },
  {
   "cell_type": "markdown",
   "metadata": {},
   "source": [
    "<h4>WINDOW</h4>"
   ]
  },
  {
   "cell_type": "markdown",
   "metadata": {},
   "source": [
    "4 formal parameters. \n",
    "X, Y, Z, corresponding to lateral quotes, of type [float] and occupancy, of type [bool]. That are for create the window"
   ]
  },
  {
   "cell_type": "code",
   "execution_count": 6,
   "metadata": {
    "collapsed": true
   },
   "outputs": [],
   "source": [
    "X=[.025,.1,.01,.1,.01,.1,.05,.1,.01,.1,.01,.1,.025]\n",
    "Y=[.1]\n",
    "Z=[.025,.15,.01,.15,.05,.15,.01,.15,.01,.15,.025]\n",
    "occupancy=[[1,1,1,1,1,1,1,1,1,1,1,1,1],\n",
    "          [1,0,1,0,1,0,1,0,1,0,1,0,1],\n",
    "          [1,1,1,1,1,1,1,1,1,1,1,1,1],\n",
    "          [1,0,1,0,1,0,1,0,1,0,1,0,1],\n",
    "          [1,1,1,1,1,1,1,1,1,1,1,1,1],\n",
    "          [1,0,1,0,1,0,1,0,1,0,1,0,1],\n",
    "          [1,1,1,1,1,1,1,1,1,1,1,1,1],\n",
    "          [1,0,1,0,1,0,1,0,1,0,1,0,1],\n",
    "          [1,1,1,1,1,1,1,1,1,1,1,1,1],\n",
    "          [1,0,1,0,1,0,1,0,1,0,1,0,1],\n",
    "          [1,1,1,1,1,1,1,1,1,1,1,1,1]]\n",
    "\n",
    "glassDepth = .07"
   ]
  },
  {
   "cell_type": "markdown",
   "metadata": {},
   "source": [
    "Main parametric function to create the glass and pvc window. The function is equal to the first function!"
   ]
  },
  {
   "cell_type": "code",
   "execution_count": 7,
   "metadata": {
    "collapsed": false
   },
   "outputs": [],
   "source": [
    "\"\"\"Input: X, Y, Z (corresponding to lateral quotes of type [float]), occupancy of type [bool]\n",
    "   Output: hpc object\"\"\"\n",
    "def window(X,Y,Z,occupancy):\n",
    "    \n",
    "    \"\"\"Input: dx,dy,dz for box dimensioning, of type float\n",
    "       Output: hpc object\"\"\"\n",
    "    def windowAux(dx,dy,dz):  \n",
    "     \n",
    "        length = getLength(X)\n",
    "        window = []    \n",
    "        \n",
    "        for zI in range(0,len(Z)):\n",
    "            vector = occupancy[zI]\n",
    "            cont = 0\n",
    "            \n",
    "            for xI in vector:\n",
    "                \n",
    "                if xI==1:\n",
    "                    window.append(COLOR([1,1,1]))\n",
    "                    prodXY = PROD([QUOTE([X[cont]]),QUOTE(Y)])\n",
    "                    prodXYZ = PROD([prodXY,QUOTE([Z[zI]])])\n",
    "                    window.append(prodXYZ)   \n",
    "                    \n",
    "                if xI==0:\n",
    "                    window.append(COLOR([21/255.,84/255.,88/255.]))\n",
    "                    prod1 = PROD([QUOTE([X[cont]]),QUOTE([glassDepth])])\n",
    "                    prod2 = PROD([prod1,QUOTE([Z[zI]])])\n",
    "                    window.append(T([1,2,3])([0,Y[0]/2-glassDepth/2,0]))\n",
    "                    window.append(prod2)\n",
    "                    window.append(T([1,2,3])([0,-Y[0]/2+glassDepth/2,0]))\n",
    "\n",
    "                window.append(T([1,2,3])([X[cont],0,0]))\n",
    "                cont = cont+1\n",
    "                \n",
    "            window.append(T([1,2,3])([-length,0,Z[zI]]))\n",
    "            \n",
    "        window.append(COLOR([139/255.,139/255.,139/255.]))\n",
    "        window.append(T([1,2,3])([getLength(X)/2.,-.02,-getLength(Z)/2.]))\n",
    "        handle = CUBOID([.02,.02,.1])\n",
    "        window.append(handle)\n",
    "        window=STRUCT(window)\n",
    "        \n",
    "        dim=[dx/SIZE(1)(window),dy/SIZE(2)(window),dz/SIZE(3)(window)]\n",
    "        window= STRUCT([S([1,2,3])(dim),window])\n",
    "        \n",
    "        return window\n",
    "    return windowAux"
   ]
  },
  {
   "cell_type": "markdown",
   "metadata": {},
   "source": [
    "Launch function to create the window"
   ]
  },
  {
   "cell_type": "code",
   "execution_count": 8,
   "metadata": {
    "collapsed": false
   },
   "outputs": [
    {
     "data": {
      "text/plain": [
       "<pyplasm.xgepy.Hpc; proxy of <Swig Object of type 'std::shared_ptr< Hpc > *' at 0x000000000B166510> >"
      ]
     },
     "execution_count": 8,
     "metadata": {},
     "output_type": "execute_result"
    }
   ],
   "source": [
    "window=window(X,Y,Z,occupancy)(1,.1,1)\n",
    "VIEW(window)"
   ]
  },
  {
   "cell_type": "markdown",
   "metadata": {},
   "source": [
    "<h2>Final result!</h2>\n",
    "<h3>Door: dx=1.5, dy=0.05, dz=2.2</h3>\n",
    "![alt text](images/door1.jpg)\n",
    "![alt text](images/door2.jpg)\n",
    "<h3>Door: dx=3, dy=0.1, dz=3</h3>\n",
    "![alt text](images/door3.jpg)\n",
    "<h3>Window: dx=1, dy=0.1, dz=1</h3>\n",
    "![alt text](images/window1.jpg)\n",
    "![alt text](images/window2.jpg)\n",
    "<h3>Window: dx=2, dy=0.1, dz=1</h3>\n",
    "![alt text](images/window3.jpg)\n",
    "![alt text](images/window4.jpg)"
   ]
  }
 ],
 "metadata": {
  "kernelspec": {
   "display_name": "Python 2",
   "language": "python",
   "name": "python2"
  },
  "language_info": {
   "codemirror_mode": {
    "name": "ipython",
    "version": 2
   },
   "file_extension": ".py",
   "mimetype": "text/x-python",
   "name": "python",
   "nbconvert_exporter": "python",
   "pygments_lexer": "ipython2",
   "version": "2.7.12"
  }
 },
 "nbformat": 4,
 "nbformat_minor": 1
}
