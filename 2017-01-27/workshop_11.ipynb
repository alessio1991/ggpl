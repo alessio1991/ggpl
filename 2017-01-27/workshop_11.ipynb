{
 "cells": [
  {
   "cell_type": "markdown",
   "metadata": {},
   "source": [
    "<h1>Design of model of suburban neighborhood</h1>"
   ]
  },
  {
   "cell_type": "markdown",
   "metadata": {},
   "source": [
    "<h2>Reference model</h2>\n",
    "![alt text](reference-model/suburbia.jpg)"
   ]
  },
  {
   "cell_type": "markdown",
   "metadata": {},
   "source": [
    "<h4>Description of the geometric methods i'm going to implement:</h4>\n",
    "In this last workshop I created a suburban neighborhood model. It was created thanks to a main parametric function that goes me to call up various support functions to create the final full model. The main function takes as input an array with the size of the default measure of 2x2x1mt model, and then the entered values ​​input in the array can expect multiplied by these values, such as passing [1,1,1]. Complete model consists of several houses created using the developed for the earlier workshops function (appropriately scaled, large total 10x20x8 cm.), different streets created with the support of the BEZIER function (5cm wide), the green (3cm high), the trees (by support function using MATERIAL, opportunely traslated, dimension 1x8cm), the wooden basement (2x2x0,5 mt), and a theca (2x2x1 meters).\n",
    "The greens and the basement are simple CUBOID appropriately dimensioned and having TEXTURE. The theca is the SKEL_1 instead of a CUBOID enclosing the whole model. The model can be scaled at will, perhaps with actual size!\n",
    "Unfortunately, being a very long process, I could not take advantage of the parameterization of the function of the old workshop, which goes me to create houses of different colors, and then each time a new instance of houses. So I created a unique home with the function of the workshop 10, and every time I went to translate and rotate the copies of the same instance, and then the entire model homes are completely equal, but it is not a serious problem :)"
   ]
  },
  {
   "cell_type": "markdown",
   "metadata": {},
   "source": [
    "Import my file .py previously developed"
   ]
  },
  {
   "cell_type": "code",
   "execution_count": 1,
   "metadata": {
    "collapsed": false
   },
   "outputs": [
    {
     "name": "stdout",
     "output_type": "stream",
     "text": [
      "Evaluating fenvs.py..\n",
      "...fenvs.py imported in 0.00594522222274 seconds\n"
     ]
    },
    {
     "name": "stderr",
     "output_type": "stream",
     "text": [
      "c:\\programmi\\python27\\lib\\site-packages\\larlib\\larstruct.py:233: FutureWarning: comparison to `None` will result in an elementwise object comparison in the future.\n",
      "  self.body = [item for item in data if item != None]\n"
     ]
    }
   ],
   "source": [
    "from multistorey_house_10 import *"
   ]
  },
  {
   "cell_type": "markdown",
   "metadata": {},
   "source": [
    "Define support function to create Bezier's curves"
   ]
  },
  {
   "cell_type": "code",
   "execution_count": 2,
   "metadata": {
    "collapsed": true
   },
   "outputs": [],
   "source": [
    "\"\"\"input:point's array, quote and offset of curves\n",
    "output: Bezier curve\"\"\"\n",
    "def larBezierCurve(points,quote,offset):\n",
    "    bezier = MAP( BEZIER(S1)(points) )(INTERVALS(1)(32))\n",
    "    streetOffset = (offset)(bezier)\n",
    "    street = PROD([streetOffset,quote])\n",
    "    \n",
    "    return street"
   ]
  },
  {
   "cell_type": "markdown",
   "metadata": {},
   "source": [
    "Define support function to create different streets, starting to larBezierCurve's function, and apply the green"
   ]
  },
  {
   "cell_type": "code",
   "execution_count": 3,
   "metadata": {
    "collapsed": false
   },
   "outputs": [],
   "source": [
    "#define streets 3D, opportunely curved with BEZIER function\n",
    "#output: hpc objects represent suburbia's streets\n",
    "def createStreets():\n",
    "\n",
    "    #define quote and offset of the streets\n",
    "    streetQuote = QUOTE([.003])\n",
    "    streetOffset = OFFSET([.05,.05]) #street's width = 5mt\n",
    "\n",
    "    #define each streets as a Bezier's curve\n",
    "    street1 = [[0,.5],[.2,.2],[.5,0]]\n",
    "    street1 = larBezierCurve(street1,streetQuote,streetOffset)\n",
    "\n",
    "    street2 = [[0,1.95],[1,1.2],[1.95,1.4]]\n",
    "    street2 = larBezierCurve(street2,streetQuote,streetOffset)\n",
    "\n",
    "    street3 = [[.6,1.95],[1,1.5],[1.95,1.8]]\n",
    "    street3 = larBezierCurve(street3,streetQuote,streetOffset)\n",
    "\n",
    "    street4 = [[0,1.3],[.3,1.5],[.35,1.7]]\n",
    "    street4 = larBezierCurve(street4,streetQuote,streetOffset)\n",
    "\n",
    "    street5 = [[0,.9],[.7,1.1],[1,1.95]]\n",
    "    street5 = larBezierCurve(street5,streetQuote,streetOffset)\n",
    "\n",
    "    street6 = [[0,.5],[1,.5],[1.5,1.36]]\n",
    "    street6 = larBezierCurve(street6,streetQuote,streetOffset)\n",
    "\n",
    "    street7 = [[.5,0],[1.6,.2],[1.95,.8]]\n",
    "    street7 = larBezierCurve(street7,streetQuote,streetOffset)\n",
    "    \n",
    "    #define green of suburban neighborhood\n",
    "    green = STRUCT([CUBOID([2,2,.003])]) #green's height = 3mm\n",
    "    green = TEXTURE([\"texture/green.jpg\", TRUE, FALSE, 1, 1, 0, 5, 5])(green)\n",
    "\n",
    "    #define struct of streets and green\n",
    "    streets = STRUCT([TEXTURE([\"texture/asphalt.jpg\", TRUE, FALSE, 1, 1, 0, 5, 5])(street1),\n",
    "                      TEXTURE([\"texture/asphalt.jpg\", TRUE, FALSE, 1, 1, 0, 5, 5])(street2),\n",
    "                      TEXTURE([\"texture/asphalt.jpg\", TRUE, FALSE, 1, 1, 0, 5, 5])(street3),\n",
    "                      TEXTURE([\"texture/asphalt.jpg\", TRUE, FALSE, 1, 1, 0, 5, 5])(street4),\n",
    "                      TEXTURE([\"texture/asphalt.jpg\", TRUE, FALSE, 1, 1, 0, 5, 5])(street5),\n",
    "                      TEXTURE([\"texture/asphalt.jpg\", TRUE, FALSE, 1, 1, 0, 5, 5])(street6),\n",
    "                      TEXTURE([\"texture/asphalt.jpg\", TRUE, FALSE, 1, 1, 0, 5, 5])(street7),\n",
    "                      green])\n",
    "    \n",
    "    return streets"
   ]
  },
  {
   "cell_type": "markdown",
   "metadata": {},
   "source": [
    "Define support function to create different houses opportunely traslated and rotated"
   ]
  },
  {
   "cell_type": "code",
   "execution_count": 4,
   "metadata": {
    "collapsed": false
   },
   "outputs": [],
   "source": [
    "#output: hpc objects represent houses, opportunely rotated and traslated\n",
    "def createHouses():\n",
    "    \n",
    "    #define dimension to scale the houses (total dimension: LxPxH = 10x20x8cm)\n",
    "    dimHouse = [.01,.01,.01] #total house's dimension is 10x20x8cm\n",
    "    \n",
    "    #define array for workshop_10's input (i use just one color because the execution is too long!)\n",
    "    #COLOR([220/255.,226/255.,137/255.]\n",
    "    colorWalls = [COLOR([255/255.,255/255.,255/255.]),\n",
    "                  COLOR([0/255.,0/255.,0/255.]),\n",
    "                  COLOR([204/255.,0/255.,0/255.]),\n",
    "                  COLOR([204/255.,0/255.,102/255.])]\n",
    "    colorDoor = [COLOR([150/255.,16/255.,33/255.]),\n",
    "                 COLOR([150/255.,16/255.,33/255.]),\n",
    "                 COLOR([150/255.,16/255.,33/255.]),\n",
    "                 COLOR([150/255.,16/255.,33/255.])]\n",
    "    colorGlassDoor = [COLOR([205/255.,248/255.,250/255.]),\n",
    "                 COLOR([205/255.,248/255.,250/255.]),\n",
    "                 COLOR([205/255.,248/255.,250/255.]),\n",
    "                 COLOR([205/255.,248/255.,250/255.])]\n",
    "    colorWindow = [COLOR([1,1,1]),\n",
    "                  COLOR([0/255.,0/255.,0/255.]),\n",
    "                  COLOR([0/255.,0/255.,51/255.]),\n",
    "                  COLOR([0/255.,0/255.,0/255.])]\n",
    "    colorGlassWindow = [COLOR([21/255.,84/255.,88/255.]),\n",
    "                       COLOR([21/255.,84/255.,88/255.]),\n",
    "                       COLOR([21/255.,84/255.,88/255.]),\n",
    "                       COLOR([21/255.,84/255.,88/255.])]\n",
    "    linesFirstFloor = \"lines/first_floor\"\n",
    "    linesSecondFloor = \"lines/second_floor\"\n",
    "\n",
    "    #create different houses and opportunely traslated and rotated\n",
    "    #the houses under comment, are the houses not used in second version...\n",
    "    multistorey_house1 = ggpl_multistorey_house(0,dimHouse)(linesFirstFloor,linesSecondFloor)(colorWalls,\n",
    "                                                                                          colorDoor,\n",
    "                                                                                          colorGlassDoor,\n",
    "                                                                                          colorWindow,\n",
    "                                                                                          colorGlassWindow)\n",
    "    multistorey_house1Rotate = T([1])(.1)(R([1,2])(PI)(multistorey_house1))\n",
    "    multistorey_house1NoRotate = multistorey_house1\n",
    "    multistorey_house1RotatePI = T([1])(.1)(R([1,2])(1.23*PI)(multistorey_house1))\n",
    "    multistorey_house1NoRotatePI = R([1,2])(.7)(multistorey_house1)\n",
    "    multistorey_house1 = T([1,2])([.1,.25])(multistorey_house1Rotate)\n",
    "    #multistorey_house2 = T([1,2])([1.68,.45])(multistorey_house1RotatePI)\n",
    "    multistorey_house3 = T([1,2])([.01,1.68])(multistorey_house1Rotate)\n",
    "    #multistorey_house4 = T([1])(1.85)(multistorey_house1NoRotate)\n",
    "    #multistorey_house5 = T([1,2])([1.75,.75])(multistorey_house1NoRotate)\n",
    "    multistorey_house6 = T([1,2])([1.35,.3])(multistorey_house1RotatePI)\n",
    "    multistorey_house7 = T([1,2])([1.75,.7])(multistorey_house1NoRotatePI)\n",
    "    #multistorey_house8 = T([1,2])([1.75,1.35])(multistorey_house1Rotate)\n",
    "    multistorey_house9 = T([1,2])([-.25,-.25])(multistorey_house7)\n",
    "    multistorey_house10 = T([2])(1.22)(multistorey_house1RotatePI)\n",
    "    multistorey_house11 = T([2])(-.4)(multistorey_house10)\n",
    "    multistorey_house12 = T([1,2])([-.25,-.12])(multistorey_house9)\n",
    "    multistorey_house13 = T([1,2])([-.35,-.16])(multistorey_house12)\n",
    "    multistorey_house15 = T([1,2])([1.85,1.7])(multistorey_house1Rotate)\n",
    "    multistorey_house16 = T([2])(.87)(multistorey_house6)\n",
    "    multistorey_house17 = T([1,2])([1.35,1.64])(multistorey_house1Rotate)\n",
    "    multistorey_house18 = T([1,2])([-.3,-.1])(multistorey_house13)\n",
    "    multistorey_house19 = T([1,2])([-.25,.61])(multistorey_house6)\n",
    "    multistorey_house20 = T([1,2])([-.45,.43])(multistorey_house6)\n",
    "    multistorey_house21 = T([1,2])([.45,.35])(multistorey_house10)\n",
    "    multistorey_house22 = T([1,2])([.45,1.96])(multistorey_house1Rotate)\n",
    "    multistorey_house23 = T([1,2])([.1,.33])(multistorey_house17)\n",
    "    multistorey_house24 = T([1,2])([.25,.12])(multistorey_house11)\n",
    "    multistorey_house25 = T([1,2])([.25,.21])(multistorey_house24)\n",
    "    multistorey_house26 = T([1,2])([.25,.17])(multistorey_house25)\n",
    "    multistorey_house27 = T([1,2])([-.4,-.18])(multistorey_house20)\n",
    "    multistorey_house28 = T([1,2])([.25,.1])(multistorey_house26)\n",
    "    multistorey_house29 = T([1,2])([.25,.1])(multistorey_house6)\n",
    "    multistorey_house30 = T([1,2])([.2,.15])(multistorey_house16)\n",
    "    multistorey_house32 = T([1,2])([.35,.77])(multistorey_house18)\n",
    "    multistorey_house33 = T([1,2])([-.25,.34])(multistorey_house17)\n",
    "    multistorey_house34 = T([2])(.47)(multistorey_house24)\n",
    "    multistorey_house35 = T([1,2])([.22,.5])(multistorey_house1RotatePI)\n",
    "                                 \n",
    "    #define struct of all houses previously created\n",
    "    houses = STRUCT([multistorey_house1,\n",
    "                     #multistorey_house2,\n",
    "                     multistorey_house3,\n",
    "                     #multistorey_house4,\n",
    "                     #multistorey_house5,\n",
    "                     multistorey_house6,\n",
    "                     multistorey_house7,\n",
    "                     #multistorey_house8,\n",
    "                     multistorey_house9,\n",
    "                     multistorey_house10,\n",
    "                     multistorey_house11,\n",
    "                     multistorey_house12,\n",
    "                     multistorey_house13,\n",
    "                     multistorey_house15,\n",
    "                     multistorey_house16,\n",
    "                     multistorey_house17,\n",
    "                     multistorey_house18,\n",
    "                     multistorey_house19,\n",
    "                     multistorey_house20,\n",
    "                     multistorey_house21,\n",
    "                     multistorey_house22,\n",
    "                     multistorey_house23,\n",
    "                     multistorey_house24,\n",
    "                     multistorey_house25,\n",
    "                     multistorey_house26,\n",
    "                     multistorey_house27,\n",
    "                     multistorey_house28,\n",
    "                     multistorey_house29,\n",
    "                     multistorey_house30,\n",
    "                     multistorey_house32,\n",
    "                     multistorey_house33,\n",
    "                     multistorey_house34,\n",
    "                     multistorey_house35\n",
    "                    ])\n",
    "    \n",
    "    return houses"
   ]
  },
  {
   "cell_type": "markdown",
   "metadata": {},
   "source": [
    "Define support function to create several trees, using MATERIAL"
   ]
  },
  {
   "cell_type": "code",
   "execution_count": 5,
   "metadata": {
    "collapsed": false
   },
   "outputs": [],
   "source": [
    "#output: struct of trees opportunely traslated, using MATERIAL\n",
    "def createTrees():\n",
    "    \n",
    "    #create tree as a struct of CYLINDER (the trunk) and CONE (the green), using MATERIAL for the color\n",
    "    trunk = CYLINDER([.005,.03])(100) #cm 1 for diameter and 3cm for the height\n",
    "    trunk = MATERIAL([51,25,0,1,   0,0,0,1,  0,0,0,0, 0,0,0,1, 20])(trunk)\n",
    "    hTrunk = SIZE(3)(trunk)\n",
    "    green = CONE([.015,.05])(100) #cm 3 for diameter and cm5 for the height\n",
    "    green = MATERIAL([0,51,0,1,   0,0,0,1,  0,0,0,0, 0,0,0,1, 20])(green)\n",
    "    tree = STRUCT([trunk,T(3)(hTrunk)(green)]) #total dimension: cm8 for the height, and cm 3 for diameter\n",
    "    \n",
    "    #create several trees opportunely traslated\n",
    "    tree1 = T([1,2])([.47,.01])(tree)\n",
    "    tree2 = T(2)(.5)(tree)\n",
    "    tree3 = T(2)(.9)(tree)\n",
    "    tree4 = T(2)(1.3)(tree)\n",
    "    tree5 = T([1,2])([.33,1.65])(tree)\n",
    "    tree6 = T([1,2])([.8,1.95])(tree)\n",
    "    tree7 = T([1,2])([1.54,1.34])(tree)\n",
    "    tree8 = T([1,2])([.8,1.6])(tree)\n",
    "    tree9 = T([1,2])([1,1.8])(tree)\n",
    "    tree10 = T([1,2])([1.6,.01])(tree)\n",
    "    tree11 = T([1,2])([1.98,1.39])(tree)\n",
    "    tree12 = T([1,2])([1.98,1.79])(tree)\n",
    "    tree13 = T([1,2])([1,.75])(tree)\n",
    "    tree14 = T([1,2])([.5,1.25])(tree)\n",
    "    tree15 = T([1,2])([1.95,.7])(tree)\n",
    "    tree16 = T([1,2])([.8,1.45])(tree)\n",
    "    tree17 = T([1,2])([1.3,1.75])(tree)\n",
    "    tree18 = T([2])(1.95)(tree)\n",
    "    tree19 = T([1,2])([.5,.62])(tree)\n",
    "    tree20 = T([1,2])([1.8,1.82])(tree)\n",
    "    tree21 = T([1,2])([.45,1.65])(tree)\n",
    "    tree22 = T([1,2])([1.3,1])(tree)\n",
    "    tree23 = T([1,2])([1,1.5])(tree)\n",
    "    tree24 = T([1,2])([1,.1])(tree)\n",
    "    tree26 = T([1,2])([.4,1.05])(tree)\n",
    "    tree27 = T([1,2])([.7,.7])(tree)\n",
    "    tree28 = T([1,2])([.2,.56])(tree)\n",
    "    tree29 = T([1,2])([1.1,.93])(tree)\n",
    "    \n",
    "    #struct several trees previously created\n",
    "    trees = STRUCT([tree1,\n",
    "                   tree2,\n",
    "                   tree3,\n",
    "                   tree4,\n",
    "                   tree5,\n",
    "                   tree6,\n",
    "                   tree7,\n",
    "                   tree8,\n",
    "                   tree9,\n",
    "                   tree10,\n",
    "                   tree11,\n",
    "                   tree12,\n",
    "                   tree13,\n",
    "                   tree14,\n",
    "                   tree15,\n",
    "                   tree16,\n",
    "                   tree17,\n",
    "                   tree18,\n",
    "                   tree19,\n",
    "                   tree20,\n",
    "                   tree21,\n",
    "                   tree22,\n",
    "                   tree23,\n",
    "                   tree24,\n",
    "                   tree26,\n",
    "                   tree27,\n",
    "                   tree28,\n",
    "                   tree29])\n",
    "    \n",
    "    return trees"
   ]
  },
  {
   "cell_type": "markdown",
   "metadata": {},
   "source": [
    "Define main function to create final model of suburban neighborhood"
   ]
  },
  {
   "cell_type": "code",
   "execution_count": null,
   "metadata": {
    "collapsed": false,
    "scrolled": true
   },
   "outputs": [],
   "source": [
    "\"\"\"input: model's dimensions\n",
    "   output: model of suburban neighborhood\"\"\"\n",
    "def ggpl_suburban_neighborhood(dimModel):\n",
    "    #define struct of suburban neighborhood as set of streets, houses and trees\n",
    "    streets = createStreets()\n",
    "    houses = createHouses()\n",
    "    trees = createTrees()\n",
    "    suburban_neighborhood = STRUCT([streets,houses,trees])\n",
    "\n",
    "    #create parallelepiped basement\n",
    "    basement = TEXTURE([\"texture/basement.jpg\", TRUE, FALSE, 1, 1, 0, 5, 5])(CUBOID([2,2,.05]))\n",
    "\n",
    "    #traslate the model of suburban neighborhood\n",
    "    suburban_neighborhood = T([3])(SIZE(3)(basement))(suburban_neighborhood)\n",
    "\n",
    "    #create the model complete of basement\n",
    "    model = STRUCT([suburban_neighborhood,basement])\n",
    "\n",
    "    #create theca\n",
    "    theca = CUBOID([SIZE(1)(model),SIZE(2)(model),1])\n",
    "    theca = SKEL_1(theca)\n",
    "\n",
    "    #struct model and theca\n",
    "    modelWithTheca = S([1,2,3])(dimModel)(STRUCT([model,theca]))\n",
    "\n",
    "    return modelWithTheca"
   ]
  },
  {
   "cell_type": "markdown",
   "metadata": {},
   "source": [
    "Launch function"
   ]
  },
  {
   "cell_type": "code",
   "execution_count": null,
   "metadata": {
    "collapsed": false
   },
   "outputs": [],
   "source": [
    "dimModel = [1,1,1] #default dimension is 2x2x1mt (X,Y,Z)\n",
    "suburban_neighborhood = ggpl_suburban_neighborhood(dimModel)\n",
    "\n",
    "VIEW(suburban_neighborhood)"
   ]
  },
  {
   "cell_type": "markdown",
   "metadata": {},
   "source": [
    "<h2>Final result!</h2>\n",
    "<h3>Model's dimension: LxPxH = 2x2x1mt</h3>\n",
    "![alt text](screenshot/up.jpg)\n",
    "![alt text](screenshot/front.jpg)\n",
    "![alt text](screenshot/zoom1.jpg)\n",
    "![alt text](screenshot/zoom2.jpg)\n",
    "![alt text](screenshot/zoom3.jpg)\n",
    "![alt text](screenshot/zoom4.jpg)\n",
    "<h3>Another version with same dimensions, but different house's positions</h3>\n",
    "![alt text](screenshot/up2.jpg)\n",
    "![alt text](screenshot/front2.jpg)\n",
    "![alt text](screenshot/zoom12.jpg)\n",
    "![alt text](screenshot/zoom22.jpg)\n",
    "![alt text](screenshot/zoom32.jpg)"
   ]
  }
 ],
 "metadata": {
  "kernelspec": {
   "display_name": "Python 2",
   "language": "python",
   "name": "python2"
  },
  "language_info": {
   "codemirror_mode": {
    "name": "ipython",
    "version": 2
   },
   "file_extension": ".py",
   "mimetype": "text/x-python",
   "name": "python",
   "nbconvert_exporter": "python",
   "pygments_lexer": "ipython2",
   "version": "2.7.12"
  }
 },
 "nbformat": 4,
 "nbformat_minor": 1
}
