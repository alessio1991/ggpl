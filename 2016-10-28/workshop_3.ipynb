{
 "cells": [
  {
   "cell_type": "markdown",
   "metadata": {},
   "source": [
    "<h1>Stair landing"
   ]
  },
  {
   "cell_type": "markdown",
   "metadata": {},
   "source": [
    "<h2>[Reference project model](http://stairs4u.com/code/stair_landing_minimum_widths.htm)</h2>\n",
    "![alt text](model_reference.png)"
   ]
  },
  {
   "cell_type": "code",
   "execution_count": 120,
   "metadata": {
    "collapsed": false
   },
   "outputs": [],
   "source": [
    "from pyplasm import *\n",
    "from larlib import *"
   ]
  },
  {
   "cell_type": "code",
   "execution_count": 161,
   "metadata": {
    "collapsed": false
   },
   "outputs": [],
   "source": [
    "#2alzata+pedata=64cm\n",
    "def ggpl_stair_landing(dx,dy,dz):\n",
    "    alzata = .2\n",
    "    gradini = dz/alzata\n",
    "    \n",
    "    resto = modf(gradini)[0]    \n",
    "    totGradiniIntero = modf(gradini)[1]\n",
    "    newAlzata = dz/totGradiniIntero\n",
    "    pedata =.64-(2*newAlzata)\n",
    "    yLanding = dy/4.0\n",
    "    pedataFraz = (dy-yLanding)\n",
    "    newPedata = pedataFraz/(totGradiniIntero)\n",
    "    larghezzaStair = dx/2.0\n",
    "    landing = CUBOID([larghezzaStair*2,yLanding,newAlzata])\n",
    "    \n",
    "    stairsLanding=[]\n",
    "    for i in range (1,int(totGradiniIntero/2)):\n",
    "        stairsLanding.append(CUBOID([larghezzaStair,newPedata,newAlzata]))\n",
    "        stairsLanding.append(T([2,3])([newPedata,newAlzata]))\n",
    "    stairsLanding.append(landing)\n",
    "    \n",
    "    stairsLanding2=[]\n",
    "    for j in range (1,int(totGradiniIntero/2)):\n",
    "        stairsLanding2.append(CUBOID([larghezzaStair,newPedata,newAlzata]))\n",
    "        stairsLanding2.append(T([2,3])([newPedata,newAlzata]))\n",
    "    stairsLanding2.append(landing)\n",
    "    \n",
    "    firstStairsLanding = STRUCT(stairsLanding)\n",
    "    secondStairsLanding = STRUCT([R([1,2])(PI),STRUCT(stairsLanding2)])\n",
    "    x=STRUCT([T([1,2,3])([dx,(newPedata*((totGradiniIntero)/2)-newPedata),(newAlzata*((totGradiniIntero)/2))]),secondStairsLanding])\n",
    "    VIEW(STRUCT([firstStairsLanding,x]))"
   ]
  },
  {
   "cell_type": "code",
   "execution_count": 162,
   "metadata": {
    "collapsed": false
   },
   "outputs": [],
   "source": [
    "ggpl_stair_landing(1.94,6,3.2)"
   ]
  },
  {
   "cell_type": "code",
   "execution_count": null,
   "metadata": {
    "collapsed": true
   },
   "outputs": [],
   "source": []
  }
 ],
 "metadata": {
  "kernelspec": {
   "display_name": "Python 2",
   "language": "python",
   "name": "python2"
  },
  "language_info": {
   "codemirror_mode": {
    "name": "ipython",
    "version": 2
   },
   "file_extension": ".py",
   "mimetype": "text/x-python",
   "name": "python",
   "nbconvert_exporter": "python",
   "pygments_lexer": "ipython2",
   "version": "2.7.12"
  }
 },
 "nbformat": 4,
 "nbformat_minor": 1
}
