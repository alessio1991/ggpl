{
 "cells": [
  {
   "cell_type": "markdown",
   "metadata": {},
   "source": [
    "<h1>Stair landing"
   ]
  },
  {
   "cell_type": "markdown",
   "metadata": {},
   "source": [
    "<h2>[Reference project model](http://stairs4u.com/code/stair_landing_minimum_widths.htm)</h2>\n",
    "![alt text](model_reference.png)"
   ]
  },
  {
   "cell_type": "markdown",
   "metadata": {},
   "source": [
    "<h4>Variables:</h4>  <b>alzata</b>: ideal riser, \n",
    "            <b>gradini</b>: stairs's number (maybe decimal number), \n",
    "            <b>resto</b>: eventual decimal of 'gradini', \n",
    "            <b>totGradiniIntero</b>: integer part of 'gradin' (the effettive stairs's number), \n",
    "            <b>newAlzata</b>: effettive riser, \n",
    "            <b>pedata</b>: ideal tread, \n",
    "            <b>yLanding</b>: landing's depth, \n",
    "            <b>pedataFraz</b>: sum treads stairs without landing's depth, \n",
    "            <b>newPedata</b>: effettive tread of each stair, \n",
    "            <b>larghezzaStair</b>: stair's width."
   ]
  },
  {
   "cell_type": "markdown",
   "metadata": {},
   "source": [
    "<h4>Description of the geometric method i'm going to implement:</h4> this feature allows you to create stairs and landings from third formal parameters passed to it. With the parameters passed, i will define the numbers of the steps with their tread and riser and the size of the landings.\n",
    "The numbers of the steps according to the formal parameters can be decimal. To resolve this issue before I go on to take the integer part of the result of the division, and the rest of the division is proportionally added to each stair.\n",
    "To create the stairs and landing of the first flight use a for that step will create the single stair according to the formal parameters, through the use of CUBOID. This starts at 1 for up to the total number of steps previously obtained.\n",
    "For the second ramp simply I do an appropriate rotation of 180 ° and translation and assemble it with the first ramp.\n",
    "The translation will be made on all 3 axes, the x-axis for the accuracy of a factor dx; the y-axis by a factor equal to the product between the tread and the number of steps of the single ramp, net of a tread; on the Z axis by a factor equal to the product between the riser and the number of the single ramp steps.\n",
    "The ramps are assembled with their diagonal that goes to fill the space at the bottom of every single step.\n",
    "This diagonal part as a list that gradually will add 3 points according to past measures as formal parameters, after which it exploits MKPOL to draw lines on the 3 axis, and PROD to make it three-dimensional, and with proper translation and rotation it fill the stairs (after being STRUCT)."
   ]
  },
  {
   "cell_type": "markdown",
   "metadata": {},
   "source": [
    "Import libraries"
   ]
  },
  {
   "cell_type": "code",
   "execution_count": 28,
   "metadata": {
    "collapsed": false
   },
   "outputs": [],
   "source": [
    "from pyplasm import *\n",
    "from larlib import *"
   ]
  },
  {
   "cell_type": "markdown",
   "metadata": {},
   "source": [
    "Define principal function with 3 formal parameters, named dx,dy,dz"
   ]
  },
  {
   "cell_type": "code",
   "execution_count": 29,
   "metadata": {
    "collapsed": false
   },
   "outputs": [],
   "source": [
    "\"\"\"input: dx,dy,dz\n",
    "   output: Hpc Object - Stairs and landing\"\"\"\n",
    "\n",
    "#2alzata+pedata=64cm ideal formule of stair's size\n",
    "def ggpl_stair_landing(dx,dy,dz):\n",
    "    \n",
    "    #variables\n",
    "    alzata = .2\n",
    "    gradini = dz/alzata    \n",
    "    resto = modf(gradini)[0]    \n",
    "    totGradiniIntero = modf(gradini)[1]\n",
    "    newAlzata = dz/totGradiniIntero\n",
    "    pedata =.64-(2*newAlzata)\n",
    "    yLanding = dy/4.0\n",
    "    pedataFraz = (dy-yLanding)\n",
    "    newPedata = pedataFraz/(totGradiniIntero)\n",
    "    larghezzaStair = dx/2.0\n",
    "    \n",
    "    #construct landing as a cuboid with the size calculate before\n",
    "    landing = CUBOID([larghezzaStair*2,yLanding,newAlzata])\n",
    "    \n",
    "    #define the diagonale for fill the stairs\n",
    "    diagonal=[]\n",
    "    dist=[-(dx/2),dx/2]\n",
    "    distDiagonal=QUOTE(dist)\n",
    "    diagonal.append([0,newPedata])\n",
    "    diagonal.append([newAlzata,newPedata])\n",
    "    diagonal.append([newAlzata,2*newPedata])\n",
    "    d=MKPOL([diagonal,[[1,2,3]],None])\n",
    "    d=PROD([distDiagonal,d])\n",
    "    d=STRUCT([R([2,3])(PI/2),d])\n",
    "    d=STRUCT([R([1,2])(PI),d])\n",
    "    d=STRUCT([T([1])(dx*3/2),d])\n",
    "    \n",
    "    #contruct first stair landing\n",
    "    #i create every each single stair until the total stairs's number. \n",
    "    #stair is create as a cuboid with the size calculate before\n",
    "    stairsLanding=[]\n",
    "    for i in range (1,int(totGradiniIntero/2)):\n",
    "        stairsLanding.append(CUBOID([larghezzaStair,newPedata,newAlzata]))\n",
    "        stairsLanding.append(T([2,3])([newPedata,newAlzata]))\n",
    "        d=STRUCT([d,T([2,3])([newPedata,newAlzata]),d])\n",
    "    stairsLanding.append(landing)    \n",
    "    d=STRUCT([T(1)(-dx/2),d])\n",
    "    \n",
    "    #transform diagonal, ramp and their union in a STRUCT\n",
    "    structD=STRUCT([d])\n",
    "    structSL=STRUCT(stairsLanding)\n",
    "    totalRamp=STRUCT([structD,structSL])\n",
    "    \n",
    "    #rotate and traslate the second ramp for create the second effective ramp\n",
    "    ramp2Rotation=STRUCT([R([1,2])(PI),totalRamp])\n",
    "    totalRamp2 = STRUCT([T([1,2,3])([dx,(newPedata*((totGradiniIntero)/2)-newPedata),(newAlzata*((totGradiniIntero)/2))]),ramp2Rotation])\n",
    "    \n",
    "    #assemble the two ramps before the return\n",
    "    finalTotalRamps=STRUCT([totalRamp,totalRamp2])\n",
    "    \n",
    "    return finalTotalRamps\n",
    "    "
   ]
  },
  {
   "cell_type": "markdown",
   "metadata": {},
   "source": [
    "Launch function"
   ]
  },
  {
   "cell_type": "code",
   "execution_count": 30,
   "metadata": {
    "collapsed": false
   },
   "outputs": [
    {
     "data": {
      "text/plain": [
       "<pyplasm.xgepy.Hpc; proxy of <Swig Object of type 'std::shared_ptr< Hpc > *' at 0x000000001AD80AE0> >"
      ]
     },
     "execution_count": 30,
     "metadata": {},
     "output_type": "execute_result"
    }
   ],
   "source": [
    "ramps=ggpl_stair_landing(1.94,5,3.2)\n",
    "VIEW(ramps)"
   ]
  },
  {
   "cell_type": "markdown",
   "metadata": {},
   "source": [
    "<b>Intermediate steps</b>"
   ]
  },
  {
   "cell_type": "markdown",
   "metadata": {},
   "source": [
    "<b>totalRamp: just one ramp</b>\n",
    "![alt text](firstStairLanding.jpg)"
   ]
  },
  {
   "cell_type": "markdown",
   "metadata": {
    "collapsed": true
   },
   "source": [
    "<b>ramp2Rotation: 2 ramps without any traslation of the second's</b>\n",
    "![alt text](noTraslation.jpg)\n",
    "![alt text](below.jpg)"
   ]
  },
  {
   "cell_type": "markdown",
   "metadata": {},
   "source": [
    "<h2>Final result with different sizes!</h2>"
   ]
  },
  {
   "cell_type": "markdown",
   "metadata": {
    "collapsed": true
   },
   "source": [
    "<b>finalTotalRamps: 2 complete ramps. Sizes: dx=1.94, dy=5,dz=3.2</b>\n",
    "![alt text](final.jpg)\n",
    "\n",
    "<b>finalTotalRamps: 2 complete ramps. Sizes: dx=0.73, dy=6,dz=5.2</b>\n",
    "![alt text](final2.jpg)\n",
    "\n",
    "<b>finalTotalRamps: 2 complete ramps. Sizes: dx=1.5, dy=4,dz=2</b>\n",
    "![alt text](final3.jpg)"
   ]
  }
 ],
 "metadata": {
  "kernelspec": {
   "display_name": "Python 2",
   "language": "python",
   "name": "python2"
  },
  "language_info": {
   "codemirror_mode": {
    "name": "ipython",
    "version": 2
   },
   "file_extension": ".py",
   "mimetype": "text/x-python",
   "name": "python",
   "nbconvert_exporter": "python",
   "pygments_lexer": "ipython2",
   "version": "2.7.12"
  }
 },
 "nbformat": 4,
 "nbformat_minor": 1
}
