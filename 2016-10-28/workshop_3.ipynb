{
 "cells": [
  {
   "cell_type": "markdown",
   "metadata": {},
   "source": [
    "<h1>Stair landing"
   ]
  },
  {
   "cell_type": "markdown",
   "metadata": {},
   "source": [
    "<h2>[Reference project model](http://stairs4u.com/code/stair_landing_minimum_widths.htm)</h2>\n",
    "![alt text](model_reference.png)"
   ]
  },
  {
   "cell_type": "markdown",
   "metadata": {},
   "source": [
    "<h4>Variables:</h4>  <b>alzata</b>: ideal riser, \n",
    "            <b>gradini</b>: stairs's number (maybe decimal number), \n",
    "            <b>resto</b>: eventual decimal of 'gradini', \n",
    "            <b>totGradiniIntero</b>: integer part of 'gradin' (the effettive stairs's number), \n",
    "            <b>newAlzata</b>: effettive riser, \n",
    "            <b>pedata</b>: ideal tread, \n",
    "            <b>yLanding</b>: landing's depth, \n",
    "            <b>pedataFraz</b>: sum treads stairs without landing's depth, \n",
    "            <b>newPedata</b>: effettive tread of each stair, \n",
    "            <b>larghezzaStair</b>: stair's width."
   ]
  },
  {
   "cell_type": "markdown",
   "metadata": {},
   "source": [
    "<h4>Description of the geometric method i'm going to implement:</h4> this feature allows you to create stairs and landings from third formal parameters passed to it. With the parameters passed, i will define the numbers of the steps with their tread and riser and the size of the landings.\n",
    "The numbers of the steps according to the formal parameters can be decimal. To resolve this issue before I go on to take the integer part of the result of the division, and the rest of the division is proportionally added to each stair.\n",
    "To create the stairs and landing of the first flight use a for that step will create the single stair according to the formal parameters, through the use of CUBOID. This starts at 1 for up to the total number of steps previously obtained.\n",
    "For the second ramp simply I do the same operation as described before, and then go to assemble all via STRUCT, after appropriate rotation of 180 ° and translating the second ramp.\n",
    "The translation will be made on all 3 axes, the x-axis for the accuracy of a factor dx; the y-axis by a factor equal to the product between the tread and the number of steps of the single ramp, net of a tread; on the Z axis by a factor equal to the product between the riser and the number of the single ramp steps."
   ]
  },
  {
   "cell_type": "markdown",
   "metadata": {},
   "source": [
    "Import libraries"
   ]
  },
  {
   "cell_type": "code",
   "execution_count": 28,
   "metadata": {
    "collapsed": false
   },
   "outputs": [],
   "source": [
    "from pyplasm import *\n",
    "from larlib import *"
   ]
  },
  {
   "cell_type": "markdown",
   "metadata": {},
   "source": [
    "Define principal function with 3 formal parameters, named dx,dy,dz"
   ]
  },
  {
   "cell_type": "code",
   "execution_count": 29,
   "metadata": {
    "collapsed": false
   },
   "outputs": [],
   "source": [
    "#2alzata+pedata=64cm ideal formule of stair's size\n",
    "def ggpl_stair_landing(dx,dy,dz):\n",
    "    \n",
    "    #variables\n",
    "    alzata = .2\n",
    "    gradini = dz/alzata    \n",
    "    resto = modf(gradini)[0]    \n",
    "    totGradiniIntero = modf(gradini)[1]\n",
    "    newAlzata = dz/totGradiniIntero\n",
    "    pedata =.64-(2*newAlzata)\n",
    "    yLanding = dy/4.0\n",
    "    pedataFraz = (dy-yLanding)\n",
    "    newPedata = pedataFraz/(totGradiniIntero)\n",
    "    larghezzaStair = dx/2.0\n",
    "    \n",
    "    #construct landing as a cuboid with the size calculate before\n",
    "    landing = CUBOID([larghezzaStair*2,yLanding,newAlzata])\n",
    "    \n",
    "    #contruct first stair landing\n",
    "    #i create every each single stair until the total stairs's numer. \n",
    "    #stair is create as a cuboid with the size calculate before\n",
    "    stairsLanding=[]\n",
    "    for i in range (1,int(totGradiniIntero/2)):\n",
    "        stairsLanding.append(CUBOID([larghezzaStair,newPedata,newAlzata]))\n",
    "        stairsLanding.append(T([2,3])([newPedata,newAlzata]))\n",
    "    stairsLanding.append(landing)\n",
    "    \n",
    "    #construct second stair landing\n",
    "    #i create every each single stair until the total stairs's number. \n",
    "    #stair is create as a cuboid with the size calculate before\n",
    "    stairsLanding2=[]\n",
    "    for j in range (1,int(totGradiniIntero/2)):\n",
    "        stairsLanding2.append(CUBOID([larghezzaStair,newPedata,newAlzata]))\n",
    "        stairsLanding2.append(T([2,3])([newPedata,newAlzata]))\n",
    "    stairsLanding2.append(landing)\n",
    "    \n",
    "    #contruct the total of stair landing, as a struct of stair landing.\n",
    "    #Before the construct, i rotate the second stair landing of 180°.\n",
    "    #At the end i traslate the second stair landing\n",
    "    firstStairsLanding = STRUCT(stairsLanding)\n",
    "    secondStairsLandingRotate = STRUCT([R([1,2])(PI),STRUCT(stairsLanding2)])\n",
    "    secondStairsLanding = STRUCT([T([1,2,3])([dx,(newPedata*((totGradiniIntero)/2)-newPedata),(newAlzata*((totGradiniIntero)/2))]),secondStairsLandingRotate])\n",
    "    VIEW(STRUCT([firstStairsLanding,secondStairsLanding]))"
   ]
  },
  {
   "cell_type": "markdown",
   "metadata": {},
   "source": [
    "Launch function"
   ]
  },
  {
   "cell_type": "code",
   "execution_count": 30,
   "metadata": {
    "collapsed": true
   },
   "outputs": [],
   "source": [
    "ggpl_stair_landing(1.94,5,3.2)"
   ]
  },
  {
   "cell_type": "markdown",
   "metadata": {},
   "source": [
    "<b>Intermediate steps</b>"
   ]
  },
  {
   "cell_type": "markdown",
   "metadata": {},
   "source": [
    "<b>stairsLanding: just one ramp</b>\n",
    "![alt text](firstStairLanding.jpg)"
   ]
  },
  {
   "cell_type": "markdown",
   "metadata": {
    "collapsed": true
   },
   "source": [
    "<b>secondStairsLandingRotate: 2 ramps without any traslation of the second's</b>\n",
    "![alt text](noTraslation.jpg)"
   ]
  },
  {
   "cell_type": "markdown",
   "metadata": {},
   "source": [
    "<h2>Final result with different sizes!</h2>"
   ]
  },
  {
   "cell_type": "markdown",
   "metadata": {
    "collapsed": true
   },
   "source": [
    "<b>stairsLanding: 2 semi complete ramps. Sizes: dx=1.94, dy=5,dz=3.2</b>\n",
    "![alt text](semiFinal.jpg)\n",
    "\n",
    "<b>stairsLanding: 2 semi complete ramps. Sizes: dx=3, dy=8,dz=5.2</b>\n",
    "![alt text](semiFinal2.jpg)\n",
    "\n",
    "<b>stairsLanding: 2 semi complete ramps. Sizes: dx=4, dy=18,dz=8</b>\n",
    "![alt text](semiFinal3.jpg)\n",
    "\n",
    "<b>stairsLanding: 2 semi complete ramps. Sizes: dx=1, dy=3,dz=2</b>\n",
    "![alt text](semiFinal4.jpg)"
   ]
  }
 ],
 "metadata": {
  "kernelspec": {
   "display_name": "Python 2",
   "language": "python",
   "name": "python2"
  },
  "language_info": {
   "codemirror_mode": {
    "name": "ipython",
    "version": 2
   },
   "file_extension": ".py",
   "mimetype": "text/x-python",
   "name": "python",
   "nbconvert_exporter": "python",
   "pygments_lexer": "ipython2",
   "version": "2.7.12"
  }
 },
 "nbformat": 4,
 "nbformat_minor": 1
}
