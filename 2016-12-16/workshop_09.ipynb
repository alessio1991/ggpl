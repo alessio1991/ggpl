{
 "cells": [
  {
   "cell_type": "markdown",
   "metadata": {},
   "source": [
    "<h1>Roof & terrace modeling</h1>"
   ]
  },
  {
   "cell_type": "markdown",
   "metadata": {},
   "source": [
    "<h2>Reference models</h2>\n",
    "<h3>Simple:</h3>\n",
    "![alt text](reference-model/model.jpg)\n",
    "<h3>Complex:</h3>\n",
    "![alt text](reference-model/model2.jpg)"
   ]
  },
  {
   "cell_type": "markdown",
   "metadata": {},
   "source": [
    "<h4>Description of the geometric methods i'm going to implement:</h4>\n",
    "The primary method for the creation of the roof from a floor plan, takes as input 3 parameters, representing .lines file, the angle of inclination and length of the slope. This method has various methods to support: <b>vertexFlap</b> allows me to return to the 4 vertexes of the plane belonging to the flap, necessary to define the various flap; <b>points2line</b> that returns a line from two points, necessary to <b>linesIntersection</b> method that two straight dates me from the point of intersection; <b>getdirections</b> returns me the \"direction\" of all plans Belonging to all flaps; <b>getVertexes</b> return all vertexes of .lines files as input that represents the floor plan of the house. The main method starts with defining the vertexes of the roof from the floor plan and the direction of the flaps. The flaps will then be directed in relation to the adjacent flaps. Then I define the various lines and their points of intersection, and then make the final flaps with appropriate direction and texture. Then I define the border vertexes that allow me to define the edges of the terrace I create with POLYLINE and solidify; The terrace is appropriately translated and completed with the texture, to structure it along to the roof created earlier."
   ]
  },
  {
   "cell_type": "markdown",
   "metadata": {},
   "source": [
    "Import libraries"
   ]
  },
  {
   "cell_type": "code",
   "execution_count": 1,
   "metadata": {
    "collapsed": false
   },
   "outputs": [
    {
     "name": "stdout",
     "output_type": "stream",
     "text": [
      "Evaluating fenvs.py..\n",
      "...fenvs.py imported in 0.00597415150814 seconds\n"
     ]
    }
   ],
   "source": [
    "from pyplasm import *\n",
    "from scipy import *  \n",
    "from numpy import *  \n",
    "import math\n",
    "import csv"
   ]
  },
  {
   "cell_type": "markdown",
   "metadata": {},
   "source": [
    "Define support method to return the 4 vertexes of the plan belonging to the flap"
   ]
  },
  {
   "cell_type": "code",
   "execution_count": 2,
   "metadata": {
    "collapsed": true
   },
   "outputs": [],
   "source": [
    "\"\"\"input: lists of the coordinates xyz of the two vertex (vertex1,vertex2),\n",
    "   the inclination angle of the flaps (angle),\n",
    "   flap's length (length)\n",
    "   direction's quadrant of the flap (direction)\n",
    "   output: all the flap's vertexes\"\"\"\n",
    "def vertexFlap(vertex1, vertex2, angle, length, direction):\n",
    "\n",
    "    #order x & y\n",
    "    if vertex1[1]>vertex2[1]:\n",
    "        x=vertex1[0]\n",
    "        y=vertex2[1]\n",
    "    else:\n",
    "        x=vertex2[0]\n",
    "        y=vertex1[1]\n",
    "\n",
    "    vertex3 = [x,y,0]\n",
    "\n",
    "    #AB = sqrt[(x2- x1)^2 + (y2- y1)^2]\n",
    "    distance12 = sqrt((vertex1[0]-vertex2[0])*(vertex1[0]-vertex2[0])\n",
    "                      +(vertex1[1]-vertex2[1])*(vertex1[1]-vertex2[1]))\n",
    "    distance13 = sqrt((vertex1[0]-vertex3[0])*(vertex1[0]-vertex3[0])\n",
    "                      +(vertex1[1]-vertex3[1])*(vertex1[1]-vertex3[1]))\n",
    "    distance23 = sqrt((vertex2[0]-vertex3[0])*(vertex2[0]-vertex3[0])\n",
    "                      +(vertex2[1]-vertex3[1])*(vertex2[1]-vertex3[1]))\n",
    "    \n",
    "    #distance23 = distance12 * cos(a)\n",
    "    #cos(a) = distance23/distance12\n",
    "    a = math.asin(distance23/distance12)\n",
    "    b = PI/2-a\n",
    "\n",
    "    distance24 = length * math.cos(angle)\n",
    "\n",
    "    h = sqrt(length*length-distance24*distance24)\n",
    "    distance25 = distance24 * math.cos(b)\n",
    "    distance45 = sqrt(distance24*distance24-distance25*distance25)\n",
    "\n",
    "    #verify the quadrant's number\n",
    "    if direction==1:\n",
    "        vertex6 = [vertex2[0]+distance25,vertex2[1]+distance45,h]\n",
    "        vertex7 = [vertex1[0]+distance25,vertex1[1]+distance45,h]\n",
    "    elif direction==2:\n",
    "        vertex6 = [vertex2[0]-distance25,vertex2[1]+distance45,h]\n",
    "        vertex7 = [vertex1[0]-distance25,vertex1[1]+distance45,h]\n",
    "    elif direction==3:\n",
    "        vertex6 = [vertex2[0]-distance25,vertex2[1]-distance45,h]\n",
    "        vertex7 = [vertex1[0]-distance25,vertex1[1]-distance45,h]\n",
    "    elif direction==4:\n",
    "        vertex6 = [vertex2[0]+distance25,vertex2[1]-distance45,h]\n",
    "        vertex7 = [vertex1[0]+distance25,vertex1[1]-distance45,h]\n",
    "\n",
    "    #add all vertex find\n",
    "    allVertexes = [vertex1,vertex2,vertex6,vertex7]\n",
    "\n",
    "    return allVertexes"
   ]
  },
  {
   "cell_type": "markdown",
   "metadata": {},
   "source": [
    "Define support method to return a line, starting from 2 points"
   ]
  },
  {
   "cell_type": "code",
   "execution_count": 3,
   "metadata": {
    "collapsed": true
   },
   "outputs": [],
   "source": [
    "\"\"\"input: 2 lists of coordinates xy of the 2 vertexes/points\n",
    "   output: a line as list of 3 elements (x,y,n, where n is the sum of x,y)\"\"\"\n",
    "def points2line(vertex1,vertex2):\n",
    "\n",
    "    x1=vertex1[0]\n",
    "    x2=vertex2[0]\n",
    "    y1=vertex1[1]\n",
    "    y2=vertex2[1]\n",
    "    m=0\n",
    "    q=0\n",
    "\n",
    "    if x1==x2:            #if the vertexes have same x, the line is parallel to y axis\n",
    "        line = [1,0,x1]\n",
    "    elif y1==y2:          #if the vertexes have same y, the line is parallel to x axis\n",
    "        line = [0,1,y1]\n",
    "    else:\n",
    "        m=(float(y2)-float(y1))/(float(x2)-float(x1))\n",
    "        q=float(y1)-m*float(x1)\n",
    "        line = [-m,1,q]\n",
    "\n",
    "    return line"
   ]
  },
  {
   "cell_type": "markdown",
   "metadata": {},
   "source": [
    "Define support method to return the intersection's point betwen 2 lines"
   ]
  },
  {
   "cell_type": "code",
   "execution_count": 4,
   "metadata": {
    "collapsed": true
   },
   "outputs": [],
   "source": [
    "\"\"\"input: 2 lines\n",
    "    output: intersection's point\"\"\"\n",
    "def linesIntersection(line1,line2):\n",
    "      \n",
    "    #coefficients on the left of the equals\n",
    "    A = matrix([[line1[0], line1[1]], [line2[0], line2[1]]])  \n",
    "    \n",
    "    #knowns terms \n",
    "    b = array([line1[2], line2[2]])  \n",
    "      \n",
    "    #resolve linear system\n",
    "    intersectionPoint = linalg.solve(A, b)\n",
    "    \n",
    "    return intersectionPoint"
   ]
  },
  {
   "cell_type": "markdown",
   "metadata": {},
   "source": [
    "Define support method to determinate the directions of all plan belonging to all flaps"
   ]
  },
  {
   "cell_type": "code",
   "execution_count": 5,
   "metadata": {
    "collapsed": true
   },
   "outputs": [],
   "source": [
    "\"\"\"input: list of vertexes of all plans belonging to all flaps\n",
    "   output: list of the directions of all flaps\"\"\"\n",
    "def getDirections(vertexes):\n",
    "    \n",
    "    directions=[]\n",
    "    \n",
    "    for i in range(1,len(vertexes)):\n",
    "        x1=vertexes[i-1][0]\n",
    "        x2=vertexes[i][0]\n",
    "        y1=vertexes[i-1][1]\n",
    "        y2=vertexes[i][1]\n",
    "        \n",
    "        #compare the vertexes to determinate the quadrant's number\n",
    "        if x2>=x1:\n",
    "            if y2>=y1:\n",
    "                directions.append(4)\n",
    "            else:\n",
    "                directions.append(3)  \n",
    "        else:\n",
    "            if y2>=y1:\n",
    "                directions.append(1)\n",
    "            else:\n",
    "                directions.append(2)\n",
    "                \n",
    "    return directions"
   ]
  },
  {
   "cell_type": "markdown",
   "metadata": {},
   "source": [
    "Define support method to get all the vertexes of the input's .lines file"
   ]
  },
  {
   "cell_type": "code",
   "execution_count": 6,
   "metadata": {
    "collapsed": true
   },
   "outputs": [],
   "source": [
    "\"\"\"input: .lines file\n",
    "   output: list of all vertexes of the floor plan\"\"\"\n",
    "def getVertexes(path):\n",
    "    \n",
    "    with open(path, \"rb\") as file:\n",
    "        reader = csv.reader(file, delimiter=\",\")\n",
    "        \n",
    "        #append points as couple of coordinates xy (01 & 23)\n",
    "        temp=[]\n",
    "        for row in reader:\n",
    "            temp.append([float(row[0]),float(row[1])])\n",
    "            temp.append([float(row[2]),float(row[3])])\n",
    "\n",
    "        #take only vertexes with even index (because they are the exactly vertexes of the floor plan)\n",
    "        vertexes=[]\n",
    "        for i in range(len(temp)):\n",
    "            if i%2==0:\n",
    "                vertexes.append(temp[i])\n",
    "            if i==len(temp)-3:\n",
    "                vertexes.append(temp[i])\n",
    "                \n",
    "    return vertexes"
   ]
  },
  {
   "cell_type": "markdown",
   "metadata": {},
   "source": [
    "Define main function to create final roof&terrace starting by a .lines file, inclination's angle of flaps, and length of the flaps"
   ]
  },
  {
   "cell_type": "code",
   "execution_count": 7,
   "metadata": {
    "collapsed": false
   },
   "outputs": [],
   "source": [
    "\"\"\"input: path of .lines's file, angle of flaps's inclinations, flaps's length\n",
    "   output: final structure of roof & terrace\"\"\"\n",
    "def ggpl_roof_terrace(path,angle,length):\n",
    "\n",
    "    #define the vertexes of the floor plan, and the directions of all plan of alla flaps\n",
    "    vertexes=getVertexes(path)\n",
    "    directions=getDirections(vertexes)\n",
    "\n",
    "    #opportunely direction of the flaps in relation to the adjacent flaps\n",
    "    flaps = []\n",
    "    for i in range(len(directions)):\n",
    "        if i==len(directions)-1:\n",
    "            flaps.append(vertexFlap(vertexes[i],vertexes[0],angle,length,directions[i]))\n",
    "        else:\n",
    "            s = i+1\n",
    "            flaps.append(vertexFlap(vertexes[i],vertexes[s],angle,length,directions[i]))\n",
    "\n",
    "    #define lines and their intersection's point, of all lines in the \"roof\"\n",
    "    lines = []\n",
    "    for i in range(len(flaps)):\n",
    "        lines.append(points2line(flaps[i][2],flaps[i][3]))\n",
    "\n",
    "    intersections = []\n",
    "    for i in range(len(lines)):\n",
    "        if i==len(lines)-1:\n",
    "            intersections.append(linesIntersection(lines[i],lines[0]))\n",
    "            intersections.append(linesIntersection(lines[i],lines[0]))\n",
    "        else:\n",
    "            s = i+1\n",
    "            intersections.append(linesIntersection(lines[i],lines[s]))\n",
    "\n",
    "    #make final flaps with opportune direction and texture\n",
    "    finalFlaps = []\n",
    "    for i in range(len(directions)):\n",
    "        \n",
    "        if i == 0:           \n",
    "            f = MKPOL([[\n",
    "                        [flaps[i][0][0],flaps[i][0][1],0],\n",
    "                        [flaps[i][1][0],flaps[i][1][1],0],\n",
    "                        [intersections[i][0],intersections[i][1],flaps[1][2][2]],\n",
    "                        [intersections[len(directions)-1][0],intersections[len(directions)-1][1],flaps[0][2][2]]],\n",
    "                       [[1,2,3,4]],None])\n",
    "            \n",
    "            f = TEXTURE([\"texture/roof.jpg\", TRUE, FALSE, 1, 1, 0, 10, 10])(f)            \n",
    "            finalFlaps.append(f)\n",
    "            \n",
    "        else:\n",
    "            f = MKPOL([[[flaps[i][0][0],flaps[i][0][1],0],\n",
    "                        [flaps[i][1][0],flaps[i][1][1],0],\n",
    "                        [intersections[i][0],intersections[i][1],flaps[1][2][2]],\n",
    "                        [intersections[i-1][0],intersections[i-1][1],flaps[0][2][2]]],\n",
    "                       [[1,2,3,4]],None])\n",
    "            \n",
    "            f = TEXTURE(\"texture/roof.jpg\")(f)\n",
    "            finalFlaps.append(f)\n",
    "\n",
    "    #define border vertexes for create the terrace as polyline+solidify\n",
    "    borderVertexes = [[] for _ in range(len(intersections)+1)]\n",
    "    cell = []\n",
    "    for i in range (len(intersections)):\n",
    "        borderVertexes[i].append(intersections[i][0])\n",
    "        borderVertexes[i].append(intersections[i][1])\n",
    "        s = i+1\n",
    "        if i==len(intersections)-1:\n",
    "            borderVertexes[s].append(intersections[0][0])\n",
    "            borderVertexes[s].append(intersections[0][1])\n",
    "        cell.append(s)\n",
    "\n",
    "    border = POLYLINE(borderVertexes)\n",
    "    border = SOLIDIFY(border)\n",
    "\n",
    "    #opportunely shift and texture\n",
    "    terrace = T(3)(flaps[0][2][2])(border)\n",
    "    terrace = TEXTURE([\"texture/terrace.jpg\", TRUE, FALSE, 1, 1, 0, 10, 10])(terrace)\n",
    "    \n",
    "    #struct final roof and roof+terrace\n",
    "    roof = STRUCT(finalFlaps)\n",
    "    roofTerrace=STRUCT([terrace,roof])\n",
    "    \n",
    "    return roofTerrace"
   ]
  },
  {
   "cell_type": "markdown",
   "metadata": {},
   "source": [
    "Launch function"
   ]
  },
  {
   "cell_type": "code",
   "execution_count": 8,
   "metadata": {
    "collapsed": false
   },
   "outputs": [
    {
     "data": {
      "text/plain": [
       "<pyplasm.xgepy.Hpc; proxy of <Swig Object of type 'std::shared_ptr< Hpc > *' at 0x000000000AFFB480> >"
      ]
     },
     "execution_count": 8,
     "metadata": {},
     "output_type": "execute_result"
    }
   ],
   "source": [
    "roof_terrace = ggpl_roof_terrace(\"perimeter2.lines\",PI/3,80)\n",
    "VIEW(roof_terrace)"
   ]
  },
  {
   "cell_type": "markdown",
   "metadata": {},
   "source": [
    "<h2>Final result!</h2>\n",
    "<h3>Simple -> Angle: Pi/4, length: 180</h3>\n",
    "![alt text](screenshots/1.jpg)\n",
    "![alt text](screenshots/2.jpg)\n",
    "![alt text](screenshots/3.jpg)\n",
    "![alt text](screenshots/4.jpg)\n",
    "<h3>Complex -> Angle: Pi/3, length: 80</h3>\n",
    "![alt text](screenshots/5.jpg)\n",
    "![alt text](screenshots/6.jpg)\n",
    "![alt text](screenshots/7.jpg)\n",
    "![alt text](screenshots/8.jpg)"
   ]
  }
 ],
 "metadata": {
  "kernelspec": {
   "display_name": "Python 2",
   "language": "python",
   "name": "python2"
  },
  "language_info": {
   "codemirror_mode": {
    "name": "ipython",
    "version": 2
   },
   "file_extension": ".py",
   "mimetype": "text/x-python",
   "name": "python",
   "nbconvert_exporter": "python",
   "pygments_lexer": "ipython2",
   "version": "2.7.12"
  }
 },
 "nbformat": 4,
 "nbformat_minor": 1
}
