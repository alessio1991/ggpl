{
 "cells": [
  {
   "cell_type": "markdown",
   "metadata": {},
   "source": [
    "# Function to create a 3D value of type HPC representing the bone structure of a (parametric) reinforced concrete building."
   ]
  },
  {
   "cell_type": "markdown",
   "metadata": {},
   "source": [
    "I create a bone structure of a reinforced concrete building, starting to workshop numer 1."
   ]
  },
  {
   "cell_type": "markdown",
   "metadata": {},
   "source": [
    "<h2>Reference project model\n",
    "![alt text](reference_model.jpg)"
   ]
  },
  {
   "cell_type": "markdown",
   "metadata": {},
   "source": [
    "\"\"\"INFO: Telai separati fra loro di 4 mt, pilastri 300x40x40cm, travi 400x40x40cm, nessuna fondazione\"\"\""
   ]
  },
  {
   "cell_type": "markdown",
   "metadata": {},
   "source": [
    "Import libraries"
   ]
  },
  {
   "cell_type": "code",
   "execution_count": 41,
   "metadata": {
    "collapsed": false
   },
   "outputs": [],
   "source": [
    "from pyplasm import *\n",
    "import csv"
   ]
  },
  {
   "cell_type": "markdown",
   "metadata": {},
   "source": [
    "Function to create pillar and beam (develop at workshop n.1) for a single frame"
   ]
  },
  {
   "cell_type": "code",
   "execution_count": 42,
   "metadata": {
    "collapsed": true
   },
   "outputs": [],
   "source": [
    "def newStructure(beamSection, pillarSection, distancePillar, height):\n",
    "    px=pillarSection[0]\n",
    "    py=pillarSection[1]\n",
    "    pz=height[0]\n",
    "    bx=beamSection[0]\n",
    "    bz=beamSection[1]\n",
    "    xPillar=[]\n",
    "    yPillar=[]\n",
    "    zPillar=[]\n",
    "    xBeam=[]\n",
    "    zBeam=[]\n",
    "    yBeam=[]\n",
    "    lenBeam=0\n",
    "\n",
    "#creo pilastri\n",
    "    for i in distancePillar:\n",
    "        yPillar=yPillar+[py,-i]\n",
    "        xPillar=[px]\n",
    "        lenBeam=lenBeam+i+py\n",
    "    yPillar = yPillar + [py]    \n",
    "#creo travi\n",
    "    for i in height:\n",
    "       zPillar=zPillar+[i,-bz]\n",
    "       zBeam=zBeam+[-i,bz]\n",
    "       xBeam=[bx]\n",
    "       yBeam = [lenBeam+py]\n",
    "        \n",
    "    aPillar=PROD([QUOTE(yPillar),QUOTE(zPillar)])\n",
    "    pillar=PROD([QUOTE(xPillar),aPillar])\n",
    "\n",
    "    aBeam=PROD([QUOTE(yBeam),QUOTE(zBeam)])\n",
    "    beam=PROD([QUOTE(xBeam),aBeam])\n",
    "    \n",
    "    frame=STRUCT([pillar, beam])\n",
    "    return frame"
   ]
  },
  {
   "cell_type": "markdown",
   "metadata": {},
   "source": [
    "Function to create orizzontal beam"
   ]
  },
  {
   "cell_type": "code",
   "execution_count": 43,
   "metadata": {
    "collapsed": true
   },
   "outputs": [],
   "source": [
    "def newOrizzontalBeam(bx,bz,px,py,distance,height):\n",
    "    beamX = [bx]\n",
    "    beamY = []\n",
    "    beamZ = []\n",
    "    \n",
    "    for i in height:\n",
    "        beamZ = beamZ + [-i,bz]\n",
    "    for i in distance:\n",
    "        beamY = beamY + [py,-i]\n",
    "    beamY = beamY + [py]\n",
    "    temp = PROD([QUOTE(beamX),QUOTE(beamY)])\n",
    "    orizzoBeam = PROD([temp,QUOTE(beamZ)])\n",
    "\n",
    "    orizzontalModel = STRUCT([orizzoBeam])\n",
    "    return orizzontalModel"
   ]
  },
  {
   "cell_type": "markdown",
   "metadata": {},
   "source": [
    "Function to open CSV file and pass the value to the old function for create a single telaio, and generate the final structure of a building"
   ]
  },
  {
   "cell_type": "code",
   "execution_count": 44,
   "metadata": {
    "collapsed": false
   },
   "outputs": [],
   "source": [
    "def ggpl_bone_structure(fileName):\n",
    "    x = []\n",
    "    y = []\n",
    "    z = []\n",
    "    \n",
    "    orizzontalBeam = []\n",
    "    frames = []\n",
    "    trans = []\n",
    "    \n",
    "    structure = []\n",
    "    structureSecondary = []\n",
    "    Vx=0\n",
    "    \n",
    "    with open(fileName,'rU') as csvfile:  #read .csv file\n",
    "        reader = csv.DictReader(csvfile)\n",
    "        cont = 2\n",
    "        for row in reader:\n",
    "            if(cont%2 != 0): #se riga dispari\n",
    "                beamSection = row['x'].replace(\"(\",\"\").replace(\")\",\"\").split(\";\") #replace 'delete' the () and [], split divide values with ;\n",
    "                pillarSection = row['y'].replace(\"(\",\"\").replace(\")\",\"\").split(\";\")\n",
    "                \n",
    "                beamX = eval(beamSection[0]) #convert value\n",
    "                beamZ = eval(beamSection[1])\n",
    "                \n",
    "                pillarX = eval(pillarSection[0])\n",
    "                pillarY = eval(pillarSection[1])\n",
    "                                         \n",
    "                distancePillar = []\n",
    "                for dist in row['z'].replace(\"[\",\"\").replace(\"]\",\"\").split(\";\"):\n",
    "                    distancePillar.append(eval(dist))\n",
    "                \n",
    "                height = []\n",
    "                for alt in row['k'].replace(\"[\",\"\").replace(\"]\",\"\").split(\";\"):\n",
    "                    height.append(eval(alt))\n",
    "                \n",
    "                orizzontalBeam.append(newOrizzontalBeam(Vx,beamZ,pillarX,pillarY,distancePillar,height)) #create more beams                                                            \n",
    "                frames.append(newStructure((beamX,beamZ),(pillarX,pillarY),distancePillar,height)) #create more frames\n",
    "                \n",
    "            if(cont%2 == 0): #se riga pari\n",
    "                Vx = x = eval(row['x'])\n",
    "                y = eval(row['y'])\n",
    "                z = eval(row['z'])\n",
    "                trans.append(T([1,2,3])([x,y,z])) #translation on coordinate x,y,z\n",
    "               \n",
    "            cont = cont+1\n",
    "            \n",
    "    cont2 = 0\n",
    "    for fram in frames:\n",
    "        structure.append(trans[cont2])\n",
    "        structure.append(frames[cont2])\n",
    "        if(cont2+1 < len(frames)):\n",
    "            structureSecondary.append(trans[cont2])\n",
    "            structureSecondary.append(orizzontalBeam[cont2+1])\n",
    "        cont2=cont2+1\n",
    "        \n",
    "    firstView = STRUCT(structure) #generate the frames\n",
    "    secondView = STRUCT(structureSecondary) #generate the beams for connect more frames\n",
    "    VIEW(STRUCT([firstView,secondView]))\n",
    "    "
   ]
  },
  {
   "cell_type": "markdown",
   "metadata": {},
   "source": [
    "Launch function"
   ]
  },
  {
   "cell_type": "code",
   "execution_count": 45,
   "metadata": {
    "collapsed": false
   },
   "outputs": [],
   "source": [
    "ggpl_bone_structure(\"frame_data_435092.csv\")"
   ]
  },
  {
   "cell_type": "markdown",
   "metadata": {},
   "source": [
    "<h2>Final result!</h2>\n",
    "![alt text](final_result.jpg)"
   ]
  }
 ],
 "metadata": {
  "kernelspec": {
   "display_name": "Python 2",
   "language": "python",
   "name": "python2"
  },
  "language_info": {
   "codemirror_mode": {
    "name": "ipython",
    "version": 2
   },
   "file_extension": ".py",
   "mimetype": "text/x-python",
   "name": "python",
   "nbconvert_exporter": "python",
   "pygments_lexer": "ipython2",
   "version": "2.7.12"
  }
 },
 "nbformat": 4,
 "nbformat_minor": 1
}
