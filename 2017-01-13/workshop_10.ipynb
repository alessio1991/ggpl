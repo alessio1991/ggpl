{
 "cells": [
  {
   "cell_type": "markdown",
   "metadata": {},
   "source": [
    "<h1>Design of parametric multistorey house</h1>"
   ]
  },
  {
   "cell_type": "markdown",
   "metadata": {},
   "source": [
    "<h2>Reference model (modified)</h2>\n",
    "![alt text](reference-model/multistorey_house.jpg)"
   ]
  },
  {
   "cell_type": "markdown",
   "metadata": {},
   "source": [
    "<h4>Description of the geometric methods i'm going to implement:</h4>\n",
    "For this workshop I went to implement a parametric function that will build a multistorey house, attracting many of the workshops previously developed and adjusted. The main function is to three levels, the first takes as input the house number (required for the next workshop for the creation of multiple parametric houses), the second takes in input the path for the .lines files for all the two floor of the house, the third takes in input 5 arrays, each of which will contain different colors for the various elements of the house, so that each house will be structurally the same, but with different colors! Recalling the old functions, I'm going to create the structure of the first floor from .lines, add the scales appropriately shifted, same thing for doors and windows. Then I'm going to add the ceiling and the second floor (which in turn will appropriately translated doors and windows), then finished with the second-floor ceiling and the roof terrace. What makes the main function essentially is to call all of the old workshop methods to create the various parts of the house, translating and rotating the whole. It ends with a STRUCT the first floor + stairs + ceiling + second floor + ceiling + roof terrace."
   ]
  },
  {
   "cell_type": "markdown",
   "metadata": {},
   "source": [
    "Import my files .py previously developed"
   ]
  },
  {
   "cell_type": "code",
   "execution_count": 1,
   "metadata": {
    "collapsed": false
   },
   "outputs": [
    {
     "name": "stdout",
     "output_type": "stream",
     "text": [
      "Evaluating fenvs.py..\n",
      "...fenvs.py imported in 0.0070788451042 seconds\n"
     ]
    },
    {
     "name": "stderr",
     "output_type": "stream",
     "text": [
      "c:\\programmi\\python27\\lib\\site-packages\\larlib\\larstruct.py:233: FutureWarning: comparison to `None` will result in an elementwise object comparison in the future.\n",
      "  self.body = [item for item in data if item != None]\n"
     ]
    }
   ],
   "source": [
    "from house_modeling_08 import *\n",
    "from stair_landing_03 import *\n",
    "from roof_09 import *\n",
    "from window_07 import *\n",
    "from door_07 import *"
   ]
  },
  {
   "cell_type": "markdown",
   "metadata": {},
   "source": [
    "Define main function to create the structure of a multistorey house with its elements"
   ]
  },
  {
   "cell_type": "code",
   "execution_count": 2,
   "metadata": {
    "collapsed": false
   },
   "outputs": [],
   "source": [
    "\"\"\"input:number of house (necessary for create more house) \n",
    "   output:hpc object representative the house\"\"\"\n",
    "def ggpl_multistorey_house(numberHouse):\n",
    "    \n",
    "    \"\"\"input:path of the .lines files\n",
    "       output:hpc object representative the house\"\"\"\n",
    "    def ggpl_multistorey_house_path(pathLinesFirstFloor,pathLinesSecondFloor):\n",
    "        \n",
    "        \"\"\"input:5 array representative a set of color for the various house's elements\n",
    "           output:hpc object representative the house\"\"\"\n",
    "        def ggpl_multistorey_house_color(colorWalls,colorDoor,colorGlassDoor,colorWindow,colorGlassWindow):\n",
    "        \n",
    "            #create house's floors opportunely traslating\n",
    "            first_floor = ggpl_house_modeling(pathLinesFirstFloor,colorWalls[numberHouse],\n",
    "                                              \"texture/house_\"+str(numberHouse))\n",
    "            height_first_floor = SIZE(3)(first_floor)\n",
    "\n",
    "            #create and traslate the ramps\n",
    "            ramps = ggpl_stair_landing(2.3, 5, 4, \"texture/house_\"+str(numberHouse))\n",
    "            ramps = STRUCT([T([1,2])([.5,7.35]),ramps])\n",
    "\n",
    "            #create windows (small and big) traslate and rotate\n",
    "            XWindows=[.025,.1,.01,.1,.01,.1,.05,.1,.01,.1,.01,.1,.025]\n",
    "            YWindows=[.3]\n",
    "            ZWindows=[.025,.15,.01,.15,.05,.15,.01,.15,.01,.15,.025]\n",
    "            occupancyWindows=[[1,1,1,1,1,1,1,1,1,1,1,1,1],\n",
    "                              [1,0,1,0,1,0,1,0,1,0,1,0,1],\n",
    "                              [1,1,1,1,1,1,1,1,1,1,1,1,1],\n",
    "                              [1,0,1,0,1,0,1,0,1,0,1,0,1],\n",
    "                              [1,1,1,1,1,1,1,1,1,1,1,1,1],\n",
    "                              [1,0,1,0,1,0,1,0,1,0,1,0,1],\n",
    "                              [1,1,1,1,1,1,1,1,1,1,1,1,1],\n",
    "                              [1,0,1,0,1,0,1,0,1,0,1,0,1],\n",
    "                              [1,1,1,1,1,1,1,1,1,1,1,1,1],\n",
    "                              [1,0,1,0,1,0,1,0,1,0,1,0,1],\n",
    "                              [1,1,1,1,1,1,1,1,1,1,1,1,1]]\n",
    "            glassDepthWindows = .07\n",
    "            windowSmall = window(XWindows,YWindows,ZWindows,occupancyWindows)(1.05,.15,1.04,glassDepthWindows,\n",
    "                                                                             colorWindow[numberHouse],\n",
    "                                                                             colorGlassWindow[numberHouse])\n",
    "            windowBig = window(XWindows,YWindows,ZWindows,occupancyWindows)(1.85,.15,1.04,glassDepthWindows,\n",
    "                                                                            colorWindow[numberHouse],\n",
    "                                                                            colorGlassWindow[numberHouse])\n",
    "            windowRotateFrontSmall = STRUCT([R([1,2])(PI),windowSmall])\n",
    "            windowRotateFrontBig = STRUCT([R([1,2])(PI),windowBig])\n",
    "            windowRotateDxSmall = STRUCT([R([1,2])(-PI/2),windowSmall])\n",
    "            windowRotateDxBig = STRUCT([R([1,2])(-PI/2),windowBig])\n",
    "            windowRotateSxSmall = STRUCT([R([1,2])(PI/2),windowSmall])\n",
    "            windowRotateSxBig = STRUCT([R([1,2])(PI/2),windowBig])\n",
    "            window1 = STRUCT([T([1,2,3])([1.88,6.25,1.2]),windowRotateFrontSmall])\n",
    "            window2 = STRUCT([T([1,2,3])([8,.6,1.2]),windowRotateFrontSmall])\n",
    "            window3 = STRUCT([T([1,2,3])([7.15,19.8,1.2]),windowBig])\n",
    "            window4 = STRUCT([T([1,2,3])([10.2,5.4,1.2]),windowRotateDxSmall])\n",
    "            window5 = STRUCT([T([1,2,3])([10.2,9.92,1.2]),windowRotateDxSmall])\n",
    "            window6 = STRUCT([T([1,2,3])([10.2,13.815,1.2]),windowRotateDxSmall])\n",
    "            window7 = STRUCT([T([1,2,3])([2.14,19.8,1.2]),windowSmall])\n",
    "            window8 = STRUCT([T([1,2,3])([.45,12.76,1.2]),windowRotateSxSmall])\n",
    "            window9 = STRUCT([T([1,2,3])([.45,17.13,1.2]),windowRotateSxBig])\n",
    "            window10 = STRUCT([T([1,2,3])([4.75,4.35,1.2]),windowRotateSxSmall])\n",
    "\n",
    "            #create door entrance traslate\n",
    "            XDoor=[.2,.05,.15,.2,.5,.3,.1]\n",
    "            YDoor=[.1]\n",
    "            ZDoor=[.1,.2,.1,.2,.1,.2,.1,.2,.1,.2,.1,.2,.1,.2,.1]\n",
    "            occupancyDoor=[[1,1,1,1,1,1,1],\n",
    "                           [1,1,1,1,1,0,1],\n",
    "                           [1,0,1,1,1,0,1],\n",
    "                           [1,0,1,0,1,0,1],\n",
    "                           [1,0,1,1,1,0,1],\n",
    "                           [1,0,1,0,1,0,1],\n",
    "                           [1,0,1,1,1,0,1],\n",
    "                           [1,0,1,0,1,0,1],\n",
    "                           [1,0,1,1,1,0,1],\n",
    "                           [1,0,1,0,1,0,1],\n",
    "                           [1,0,1,1,1,0,1],\n",
    "                           [1,0,1,0,1,0,1],\n",
    "                           [1,0,1,1,1,0,1],\n",
    "                           [1,1,1,1,1,0,1],\n",
    "                           [1,1,1,1,1,1,1]]\n",
    "\n",
    "            glassDepthDoors = .03\n",
    "            doorExt = door(XDoor,YDoor,ZDoor,occupancyDoor)(1.55,.15,2.25,glassDepthDoors,\n",
    "                                                            colorDoor[numberHouse],\n",
    "                                                            colorGlassDoor[numberHouse])\n",
    "            doorExt = STRUCT([T([1,2,3])([3,6.05,.015]),doorExt])\n",
    "\n",
    "            #create doors internal opportunely rotate and traslate\n",
    "            XDoorInt=[.4,.5,.4]\n",
    "            YDoorInt=[.05]\n",
    "            ZDoorInt=[1,1,.25]\n",
    "            occupancyDoorInt=[[1,1,1],\n",
    "                              [1,0,1],\n",
    "                              [1,1,1]]\n",
    "            colorDoorInt = COLOR([139/255.,69/255.,19/255.])\n",
    "            colorGlassInt = COLOR([103/255.,230/255.,236/255.])\n",
    "            doorInt = door(XDoorInt,YDoorInt,ZDoorInt,occupancyDoorInt)(1.3,.05,2.25,\n",
    "                                                                        glassDepthDoors,colorDoorInt,\n",
    "                                                                        colorGlassInt)\n",
    "            doorIntRotate = STRUCT([R([1,2])(PI/2),doorInt])\n",
    "            doorInt1 = STRUCT([T([1,2,3])([8.15,10.1,.015]),doorInt])\n",
    "            doorInt2 = STRUCT([T([1,2,3])([2.9,7.6,.015]),doorIntRotate])\n",
    "            doorInt3 = STRUCT([T([1,2,3])([4.6,6.85,.015]),doorIntRotate])\n",
    "            doorInt4 = STRUCT([T([1,2,3])([4.6,8.65,.015]),doorIntRotate])\n",
    "            doorInt5 = STRUCT([T([1,2,3])([5.4,14.04,.015]),doorIntRotate])\n",
    "\n",
    "            #define ceiling opportunely traslated\n",
    "            ceiling = lines2lines(\"lines/second_floor/floor.lines\")\n",
    "            plan = STRUCT(AA(POLYLINE)(ceiling))\n",
    "            plan = OFFSET([.015,.015])(plan)\n",
    "            heigth = QUOTE([.009])\n",
    "            plan3dFloor = PROD([plan,heigth])\n",
    "            dim = [20,20,16]\n",
    "            ceiling = STRUCT([S([1,2,3])(dim),plan3dFloor])\n",
    "            ceiling = STRUCT([(colorWalls[numberHouse])(T([3])(3.85)(ceiling))])\n",
    "\n",
    "            #define struct of first floor\n",
    "            first_floor = STRUCT([first_floor,\n",
    "                                  doorExt,doorInt1,doorInt2,doorInt3,doorInt4,doorInt5,\n",
    "                                  window1,window2,window3,window4,window5,window6,window7,window8,window9,window10,\n",
    "                                  ramps])\n",
    "\n",
    "\n",
    "            #define second floor's elements\n",
    "            second_floor = ggpl_house_modeling(pathLinesSecondFloor,colorWalls[numberHouse],\n",
    "                                               \"texture/house_\"+str(numberHouse))\n",
    "            second_floor = STRUCT([T([3])(height_first_floor),second_floor])\n",
    "\n",
    "            #create windows of second floor\n",
    "            window1 = STRUCT([T([1,2,3])([1.88,6.25,5.2]),windowRotateFrontSmall])\n",
    "            window2 = STRUCT([T([1,2,3])([8.8,.6,5.2]),windowRotateFrontBig])\n",
    "            window3 = STRUCT([T([1,2,3])([7.15,19.8,5.2]),windowSmall])\n",
    "            window4 = STRUCT([T([1,2,3])([10.2,9.92,5.2]),windowRotateDxSmall])\n",
    "            window5 = STRUCT([T([1,2,3])([10.2,13.815,5.2]),windowRotateDxSmall])\n",
    "            window6 = STRUCT([T([1,2,3])([10.2,18.95,5.2]),windowRotateDxBig])\n",
    "            window7 = STRUCT([T([1,2,3])([2.14,19.8,5.2]),windowBig])\n",
    "            window8 = STRUCT([T([1,2,3])([.45,10.93,5.2]),windowRotateSxSmall])\n",
    "\n",
    "            #create the doors of second floor\n",
    "            doorInt1 = STRUCT([T([1,2,3])([8.9,7.6,4.015]),doorInt])\n",
    "            doorInt2 = STRUCT([T([1,2,3])([2,12.85,4.015]),doorInt])\n",
    "            doorInt3 = STRUCT([T([1,2,3])([4.8,10.25,4.015]),doorInt])\n",
    "            doorInt4 = STRUCT([T([1,2,3])([6.15,10.45,4.015]),doorIntRotate])\n",
    "            doorInt5 = STRUCT([T([1,2,3])([6.15,12.35,4.015]),doorIntRotate])\n",
    "            doorInt6 = STRUCT([T([1,2,3])([4.85,14.2,4.015]),doorInt])\n",
    "            doorInt7 = STRUCT([T([1,2,3])([2.8,6.1,4.015]),doorIntRotate])\n",
    "\n",
    "            #create roof opportunely traslated, rotated and scaled\n",
    "            colorRoof = \"texture/house_\"+str(numberHouse)\n",
    "            colorTerrace = colorWalls[numberHouse]\n",
    "            roof = ggpl_roof_terrace(pathLinesSecondFloor+\"/roof.lines\",5.4,100,colorRoof,colorTerrace)\n",
    "            roof = STRUCT([R([2,3])(PI),roof])\n",
    "            dim = [.0235,.0235,.0235]\n",
    "            roof = STRUCT([S([1,2,3])(dim),roof])\n",
    "            terrace = STRUCT([CUBOID([9.38,12.87,.3]),(T([1,2])([4.05,-5.25]))(CUBOID([5.33,5.25,.3]))])\n",
    "            terrace = T([1,2,3])([.02,6.57,9.48])(terrace)\n",
    "            terrace = TEXTURE([\"texture/house_\"+str(numberHouse)+\"/terrace.jpg\", TRUE, FALSE, 1, 1, 0, 3, 3])(terrace)\n",
    "            roof = STRUCT([T([1,2,3])([-.7,20.2,9.8])(roof),terrace])\n",
    "\n",
    "            #define struct of second floor\n",
    "            second_floor = STRUCT([second_floor,\n",
    "                                   window1,window2,window3,window4,window5,window6,window7,window8,\n",
    "                                   doorInt1,doorInt2,doorInt3,doorInt4,doorInt5,doorInt6,doorInt7])\n",
    "\n",
    "            #define all struct of the multistorey house\n",
    "            multistorey_house = STRUCT([first_floor,ceiling,second_floor,roof])\n",
    "            \n",
    "            return multistorey_house\n",
    "        \n",
    "        return ggpl_multistorey_house_color\n",
    "    \n",
    "    return ggpl_multistorey_house_path"
   ]
  },
  {
   "cell_type": "markdown",
   "metadata": {},
   "source": [
    "Launch function"
   ]
  },
  {
   "cell_type": "code",
   "execution_count": 3,
   "metadata": {
    "collapsed": false
   },
   "outputs": [
    {
     "data": {
      "text/plain": [
       "<pyplasm.xgepy.Hpc; proxy of <Swig Object of type 'std::shared_ptr< Hpc > *' at 0x000000001AE51AE0> >"
      ]
     },
     "execution_count": 3,
     "metadata": {},
     "output_type": "execute_result"
    }
   ],
   "source": [
    "colorWalls = [COLOR([220/255.,226/255.,137/255.])]\n",
    "colorDoor = [COLOR([150/255.,16/255.,33/255.])]\n",
    "colorGlassDoor = [COLOR([205/255.,248/255.,250/255.])]\n",
    "colorWindow = [COLOR([1,1,1])]\n",
    "colorGlassWindow = [COLOR([21/255.,84/255.,88/255.])]\n",
    "linesFirstFloor = \"lines/first_floor\"\n",
    "linesSecondFloor = \"lines/second_floor\"\n",
    "\n",
    "multistorey_house = ggpl_multistorey_house(0)(linesFirstFloor,linesSecondFloor)(colorWalls,\n",
    "                                                                                colorDoor,\n",
    "                                                                                colorGlassDoor,\n",
    "                                                                                colorWindow,\n",
    "                                                                                colorGlassWindow)\n",
    "\n",
    "VIEW(multistorey_house)"
   ]
  },
  {
   "cell_type": "markdown",
   "metadata": {},
   "source": [
    "<h2>Final result!</h2>\n",
    "<h3>First floor</h3>\n",
    "![alt text](screenshots/floor1.jpg)\n",
    "<h3>Second floor</h3>\n",
    "![alt text](screenshots/floor2.jpg)\n",
    "<h3>House's external</h3>\n",
    "![alt text](screenshots/house1.jpg)\n",
    "![alt text](screenshots/house2.jpg)\n",
    "![alt text](screenshots/house3.jpg)\n",
    "![alt text](screenshots/house5.jpg)\n",
    "![alt text](screenshots/house6.jpg)\n",
    "<h3>House's internal</h3>\n",
    "![alt text](screenshots/house7.jpg)\n",
    "![alt text](screenshots/house8.jpg)\n",
    "![alt text](screenshots/house9.jpg)\n",
    "![alt text](screenshots/house10.jpg)"
   ]
  }
 ],
 "metadata": {
  "kernelspec": {
   "display_name": "Python 2",
   "language": "python",
   "name": "python2"
  },
  "language_info": {
   "codemirror_mode": {
    "name": "ipython",
    "version": 2
   },
   "file_extension": ".py",
   "mimetype": "text/x-python",
   "name": "python",
   "nbconvert_exporter": "python",
   "pygments_lexer": "ipython2",
   "version": "2.7.12"
  }
 },
 "nbformat": 4,
 "nbformat_minor": 1
}
