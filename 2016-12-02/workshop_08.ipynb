{
 "cells": [
  {
   "cell_type": "markdown",
   "metadata": {},
   "source": [
    "<h1>House modeling</h1>"
   ]
  },
  {
   "cell_type": "markdown",
   "metadata": {},
   "source": [
    "<h2>Reference model</h2>\n",
    "![alt text](reference-model.jpg)"
   ]
  },
  {
   "cell_type": "markdown",
   "metadata": {},
   "source": [
    "<h4>Variables:</h4> there is a first group of variables that represent the array proceeds by the method lines2lines. \n",
    "    Second group of variables is used to make POLYLINE, OFFSET, QUOTE and PROD for every house's part. \n",
    "    <b>doorAndWindow</b> is the struct of the doors and windows of the house. \n",
    "    <b>struct</b> is the difference between the struct of internal and external walls, and the struct of windows and doors.\n",
    "    <b>texture</b> is for apply a texture to every room in the house."
   ]
  },
  {
   "cell_type": "markdown",
   "metadata": {},
   "source": [
    "<h4>Description of the geometric methods i'm going to implement:</h4> \n",
    "I first created a model by the use of INKSCAPE software, creating different SVG'files each representing a different part of the house, such as exterior walls, interior walls, doors, windows, and the floor for every room in the house . After generating the SVG'files and modified appropriately by removing the various tags, they were \"drag and drop\" on the support software that generated the lines's files. The latter were used in the function created by me to generate arrays of dots through the use of the function \"lines2lines\" present in larlib. After extracting the data, I used the functions: 'POLYLINE', 'OFFSET', 'QUOTE', 'PROD' to generate the various hpc object. At this point I made a STRUCT between interior and exterior walls, to which I am going to make a DIFFERENCE with the doors and windows (windows appropriately shifted the axis of z). At the end to make everything more beautiful, I added some texture to any room, viewing the hpc final object, a model of the house in 1mtx1mt scale."
   ]
  },
  {
   "cell_type": "markdown",
   "metadata": {},
   "source": [
    "Import library"
   ]
  },
  {
   "cell_type": "code",
   "execution_count": 1,
   "metadata": {
    "collapsed": false
   },
   "outputs": [
    {
     "name": "stdout",
     "output_type": "stream",
     "text": [
      "Evaluating fenvs.py..\n",
      "...fenvs.py imported in 0.00601148648302 seconds\n"
     ]
    },
    {
     "name": "stderr",
     "output_type": "stream",
     "text": [
      "c:\\programmi\\python27\\lib\\site-packages\\larlib\\larstruct.py:233: FutureWarning: comparison to `None` will result in an elementwise object comparison in the future.\n",
      "  self.body = [item for item in data if item != None]\n"
     ]
    }
   ],
   "source": [
    "from pyplasm import * \n",
    "from larlib import *"
   ]
  },
  {
   "cell_type": "markdown",
   "metadata": {},
   "source": [
    "Define the main void function to create the model of the house"
   ]
  },
  {
   "cell_type": "code",
   "execution_count": 2,
   "metadata": {
    "collapsed": false
   },
   "outputs": [],
   "source": [
    "def ggpl_house_modeling():\n",
    "    \n",
    "    #define the array for every part of the house, by lines2lines\n",
    "    external = lines2lines(\"linesfiles/perimeter.lines\")\n",
    "    internal = lines2lines(\"linesfiles/intern.lines\")\n",
    "    doors = lines2lines(\"linesfiles/doors.lines\")\n",
    "    windows = lines2lines(\"linesfiles/windows.lines\")\n",
    "    border = lines2lines(\"linesfiles/border.lines\")\n",
    "    floor = lines2lines(\"linesfiles/floor.lines\")\n",
    "    floorBedroom1 = lines2lines(\"linesfiles/bedroom1.lines\")\n",
    "    floorBedroom2 = lines2lines(\"linesfiles/bedroom2.lines\")\n",
    "    floorBedroom3 = lines2lines(\"linesfiles/bedroom3.lines\")\n",
    "    floorBathroom1 = lines2lines(\"linesfiles/bathroom1.lines\")\n",
    "    floorBathroom2 = lines2lines(\"linesfiles/bathroom2.lines\")\n",
    "    floorDiningFoyer = lines2lines(\"linesfiles/dining-foyer.lines\")\n",
    "    floorLiving = lines2lines(\"linesfiles/livingroom.lines\")\n",
    "    floorGarage = lines2lines(\"linesfiles/garage.lines\")\n",
    "    floorPorch = lines2lines(\"linesfiles/porch.lines\")\n",
    "    floorKitchen = lines2lines(\"linesfiles/kitchen.lines\")\n",
    "    floorUtility = lines2lines(\"linesfiles/utility.lines\")\n",
    "    \n",
    "    #polyline, offset, quote and prod every part of the house\n",
    "    planExt = STRUCT(AA(POLYLINE)(external))\n",
    "    planExt = OFFSET([.005,.005])(planExt)\n",
    "    heigthExt = QUOTE([.25])\n",
    "    plan3dExt = PROD([planExt,heigthExt])\n",
    "    \n",
    "    planInt = STRUCT(AA(POLYLINE)(internal))\n",
    "    planInt = OFFSET([.005,.005])(planInt)\n",
    "    heigthInt = QUOTE([.25])\n",
    "    plan3dInt = PROD([planInt,heigthInt])\n",
    "    \n",
    "    #struct external and internal walls\n",
    "    intAndExt = (STRUCT([plan3dInt,plan3dExt]))\n",
    "    \n",
    "    #polyline, offset, quote and prod every part of the house\n",
    "    planDoors = STRUCT(AA(POLYLINE)(doors))\n",
    "    planDoors = OFFSET([.005,.005])(planDoors)\n",
    "    heigthDoors = QUOTE([.15])\n",
    "    plan3dDoors = PROD([planDoors,heigthDoors])\n",
    "    \n",
    "    planWindows = STRUCT(AA(POLYLINE)(windows))\n",
    "    planWindows = OFFSET([.005,.005])(planWindows)\n",
    "    heigthWindows = QUOTE([.05])\n",
    "    plan3dWindows = PROD([planWindows,heigthWindows])\n",
    "    \n",
    "    planBorder = STRUCT(AA(POLYLINE)(border))\n",
    "    planBorder = OFFSET([.005,.005])(planBorder)\n",
    "    heigthBorder = QUOTE([.25])\n",
    "    plan3dBorder = PROD([planBorder,heigthBorder])\n",
    "    \n",
    "    plan = STRUCT(AA(POLYLINE)(floor))\n",
    "    plan = OFFSET([.005,.005])(plan)\n",
    "    heigth = QUOTE([0])\n",
    "    plan3dFloor = PROD([plan,heigth])\n",
    "    \n",
    "    planBedroom1 = STRUCT(AA(POLYLINE)(floorBedroom1))\n",
    "    planBedroom1 = OFFSET([.005,.005])(planBedroom1)\n",
    "    heigthBedroom1 = QUOTE([0])\n",
    "    plan3dFloorBedroom1 = PROD([planBedroom1,heigthBedroom1])\n",
    "    \n",
    "    planBedroom2 = STRUCT(AA(POLYLINE)(floorBedroom2))\n",
    "    planBedroom2 = OFFSET([.005,.005])(planBedroom2)\n",
    "    heigthBedroom2 = QUOTE([0])\n",
    "    plan3dFloorBedroom2 = PROD([planBedroom2,heigthBedroom2])\n",
    "    \n",
    "    planBedroom3 = STRUCT(AA(POLYLINE)(floorBedroom3))\n",
    "    planBedroom3 = OFFSET([.005,.005])(planBedroom3)\n",
    "    heigthBedroom3 = QUOTE([0])\n",
    "    plan3dFloorBedroom3 = PROD([planBedroom3,heigthBedroom3])\n",
    "    \n",
    "    planBathroom1 = STRUCT(AA(POLYLINE)(floorBathroom1))\n",
    "    planBathroom1 = OFFSET([.005,.005])(planBathroom1)\n",
    "    heigthBathroom1 = QUOTE([0])\n",
    "    plan3dFloorBathroom1 = PROD([planBathroom1,heigthBathroom1])\n",
    "    \n",
    "    planBathroom2 = STRUCT(AA(POLYLINE)(floorBathroom2))\n",
    "    planBathroom2 = OFFSET([.005,.005])(planBathroom2)\n",
    "    heigthBathroom2 = QUOTE([0])\n",
    "    plan3dFloorBathroom2 = PROD([planBathroom2,heigthBathroom2])\n",
    "    \n",
    "    planDiningFoyer = STRUCT(AA(POLYLINE)(floorDiningFoyer))\n",
    "    planDiningFoyer = OFFSET([.005,.005])(planDiningFoyer)\n",
    "    heigthDiningFoyer = QUOTE([0])\n",
    "    plan3dFloorDiningFoyer = PROD([planDiningFoyer,heigthDiningFoyer])\n",
    "    \n",
    "    planLiving = STRUCT(AA(POLYLINE)(floorLiving))\n",
    "    planLiving = OFFSET([.005,.005])(planLiving)\n",
    "    heigthLiving = QUOTE([0])\n",
    "    plan3dFloorLiving = PROD([planLiving,heigthLiving])\n",
    "    \n",
    "    planGarage = STRUCT(AA(POLYLINE)(floorGarage))\n",
    "    planGarage = OFFSET([.005,.005])(planGarage)\n",
    "    heigthGarage = QUOTE([0])\n",
    "    plan3dFloorGarage = PROD([planGarage,heigthGarage])\n",
    "    \n",
    "    planPorch = STRUCT(AA(POLYLINE)(floorPorch))\n",
    "    planPorch = OFFSET([.005,.005])(planPorch)\n",
    "    heigthPorch = QUOTE([0])\n",
    "    plan3dFloorPorch = PROD([planPorch,heigthPorch])\n",
    "    \n",
    "    planKitchen = STRUCT(AA(POLYLINE)(floorKitchen))\n",
    "    planKitchen = OFFSET([.005,.005])(planKitchen)\n",
    "    heigthKitchen = QUOTE([0])\n",
    "    plan3dFloorKitchen = PROD([planKitchen,heigthKitchen])\n",
    "    \n",
    "    planUtility = STRUCT(AA(POLYLINE)(floorUtility))\n",
    "    planUtility = OFFSET([.005,.005])(planUtility)\n",
    "    heigthUtility = QUOTE([0])\n",
    "    plan3dFloorUtility = PROD([planUtility,heigthUtility])\n",
    "    \n",
    "    #define the struct of door and windows for the difference\n",
    "    doorAndWindow = STRUCT([plan3dDoors,plan3dBorder,T([1,2,3])([0,0,.1])(plan3dWindows)])\n",
    "    \n",
    "    #difference between external and internal walls, and door and windows\n",
    "    struct = DIFFERENCE([intAndExt,doorAndWindow])\n",
    "    \n",
    "    #apply a texture for every room of the house\n",
    "    texture = STRUCT([TEXTURE(\"texture/wall.jpg\")(struct),\n",
    "                      TEXTURE(\"texture/bedroom1.jpg\")(plan3dFloorBedroom1),\n",
    "                      TEXTURE(\"texture/bedroom2.jpg\")(plan3dFloorBedroom2),\n",
    "                      TEXTURE(\"texture/bedroom3.jpg\")(plan3dFloorBedroom3),\n",
    "                      TEXTURE(\"texture/bathroom1.jpg\")(plan3dFloorBathroom1),\n",
    "                      TEXTURE(\"texture/bathroom2.jpg\")(plan3dFloorBathroom2),\n",
    "                      TEXTURE(\"texture/dining-foyer.jpg\")(plan3dFloorDiningFoyer),\n",
    "                      TEXTURE(\"texture/living-room.jpg\")(plan3dFloorLiving),\n",
    "                      TEXTURE(\"texture/garage.JPG\")(plan3dFloorGarage),\n",
    "                      TEXTURE(\"texture/screened.jpg\")(plan3dFloorPorch),\n",
    "                      TEXTURE(\"texture/kitchen.jpg\")(plan3dFloorKitchen),\n",
    "                      TEXTURE(\"texture/utility.jpg\")(plan3dFloorUtility)])\n",
    "    \n",
    "    #view the complete model of the house\n",
    "    VIEW(STRUCT([texture]))"
   ]
  },
  {
   "cell_type": "markdown",
   "metadata": {},
   "source": [
    "Launch function"
   ]
  },
  {
   "cell_type": "code",
   "execution_count": 3,
   "metadata": {
    "collapsed": false
   },
   "outputs": [],
   "source": [
    "ggpl_house_modeling()"
   ]
  },
  {
   "cell_type": "markdown",
   "metadata": {},
   "source": [
    "<h2>Final result!</h2>\n",
    "![alt text](screenshot/1.jpg)\n",
    "![alt text](screenshot/2.jpg)\n",
    "![alt text](screenshot/3.jpg)\n",
    "![alt text](screenshot/4.jpg)"
   ]
  }
 ],
 "metadata": {
  "kernelspec": {
   "display_name": "Python 2",
   "language": "python",
   "name": "python2"
  },
  "language_info": {
   "codemirror_mode": {
    "name": "ipython",
    "version": 2
   },
   "file_extension": ".py",
   "mimetype": "text/x-python",
   "name": "python",
   "nbconvert_exporter": "python",
   "pygments_lexer": "ipython2",
   "version": "2.7.12"
  }
 },
 "nbformat": 4,
 "nbformat_minor": 1
}
