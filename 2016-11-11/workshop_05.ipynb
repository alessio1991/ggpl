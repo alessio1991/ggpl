{
 "cells": [
  {
   "cell_type": "markdown",
   "metadata": {
    "collapsed": true
   },
   "source": [
    "<h1>Classroom</h1>"
   ]
  },
  {
   "cell_type": "markdown",
   "metadata": {},
   "source": [
    "<h2>Reference models</h2>\n",
    "![alt text](blackboard.png)\n",
    "![alt text](cattedra.jpg)\n",
    "![alt text](banco_sedia.jpg)"
   ]
  },
  {
   "cell_type": "code",
   "execution_count": 47,
   "metadata": {
    "collapsed": false
   },
   "outputs": [],
   "source": [
    "from pyplasm import *"
   ]
  },
  {
   "cell_type": "code",
   "execution_count": 318,
   "metadata": {
    "collapsed": false
   },
   "outputs": [
    {
     "data": {
      "text/plain": [
       "<pyplasm.xgepy.Hpc; proxy of <Swig Object of type 'std::shared_ptr< Hpc > *' at 0x000000000B8FDD80> >"
      ]
     },
     "execution_count": 318,
     "metadata": {},
     "output_type": "execute_result"
    }
   ],
   "source": [
    "def ggpl_blackboard(dx,dy,dz):\n",
    "    bb=CUBOID([dx,dy,dz])\n",
    "    #blackboard=STRUCT([T(3)(1),bb])\n",
    "    blackboard=COLOR(BLACK)(bb)\n",
    "    skel=SKEL_1(blackboard)\n",
    "    skel=OFFSET([.05,.05,.05])(skel)\n",
    "    skelColor=COLOR(BROWN)(skel)\n",
    "    blackb=STRUCT([blackboard,skelColor])\n",
    "    return blackb\n",
    "bb=ggpl_blackboard(2,.02,1)\n",
    "VIEW(bb)"
   ]
  },
  {
   "cell_type": "code",
   "execution_count": 356,
   "metadata": {
    "collapsed": false
   },
   "outputs": [
    {
     "data": {
      "text/plain": [
       "<pyplasm.xgepy.Hpc; proxy of <Swig Object of type 'std::shared_ptr< Hpc > *' at 0x000000000B9F0480> >"
      ]
     },
     "execution_count": 356,
     "metadata": {},
     "output_type": "execute_result"
    }
   ],
   "source": [
    "def ggpl_desk(dx,dy,dz):\n",
    "    plane=CUBOID([dx,dy,dz/20.0])\n",
    "    plane=COLOR(GREEN)(plane)\n",
    "    plane=STRUCT([T(3)(dz-(dz/20.0)),plane])\n",
    "    desk_leg1=STRUCT([T([1,2])([.03,.03]),CUBOID([(dy/10.0),(dy/10.0),(dz-(dz/20.0))])])\n",
    "    desk_leg2=STRUCT([T(1)(dx-2*.03-(dy/10.0)),desk_leg1])\n",
    "    desk_leg3=STRUCT([T(2)(dy-2*.03-(dy/10.0)),desk_leg2])\n",
    "    desk_leg4=STRUCT([T(2)(dy-2*.03-(dy/10.0)),desk_leg1])\n",
    "    legs=STRUCT([desk_leg1,desk_leg2,desk_leg3,desk_leg4])\n",
    "    legs=COLOR(BLACK)(legs)\n",
    "    structZ=.02\n",
    "    structXLong=dx-(2*.03)-(2*(dy/10.0))\n",
    "    structYShort=dy-(2*.03)-(2*(dy/10.0))\n",
    "    struct1=STRUCT([T([1,2,3])([.03+(dy/10.0),.03,dz-(dz/20.0)-structZ]),CUBOID([structXLong,dy/10.0,structZ])])\n",
    "    struct2=STRUCT([T(2)(dy-(2*0.03)-(dy/10.0)),struct1])\n",
    "    struct3=STRUCT([T([1,2,3])([.03,.03+(dy/10.0),dz-(dz/20.0)-structZ]),CUBOID([dy/10.0,structYShort,structZ])])\n",
    "    struct4=STRUCT([T(1)(dx-2*.03-dy/10.0),struct3])\n",
    "    struct=COLOR(BLACK)(STRUCT([struct1,struct2,struct3,struct4]))\n",
    "    panel=STRUCT([T([2,3])([dy-.03,dz-(dz/3.0)-(dz/20.0)-structZ]),CUBOID([dx,.03,dz/3.0])])\n",
    "    panel=COLOR(BROWN)(panel)\n",
    "    drawer=STRUCT([T([1,2,3])([dx-0.03-(dy/10.0)-dx/3.0,.03,dz-(dz/5.0)-(dz/20.0)-structZ]),CUBOID([dx/3.0,dy-(2*0.03)-(dy/10.0),dz/5.0])])\n",
    "    drawer=COLOR(BROWN)(drawer)\n",
    "    desk=STRUCT([plane,legs,struct,panel,drawer])\n",
    "    return desk\n",
    "desk=ggpl_desk(2,1,.7)\n",
    "VIEW(desk)"
   ]
  },
  {
   "cell_type": "code",
   "execution_count": 322,
   "metadata": {
    "collapsed": false
   },
   "outputs": [
    {
     "data": {
      "text/plain": [
       "<pyplasm.xgepy.Hpc; proxy of <Swig Object of type 'std::shared_ptr< Hpc > *' at 0x000000000BB37780> >"
      ]
     },
     "execution_count": 322,
     "metadata": {},
     "output_type": "execute_result"
    }
   ],
   "source": [
    "def ggpl_bench(dx,dy,dz):\n",
    "    plane=CUBOID([dx,dy,dz/20.0])\n",
    "    plane=COLOR(BLUE)(plane)\n",
    "    plane=STRUCT([T(3)(dz-(dz/20.0)),plane])\n",
    "    desk_leg1=STRUCT([T([1,2])([.03,.03]),CUBOID([(dy/10.0),(dy/10.0),(dz-(dz/20.0))])])\n",
    "    desk_leg2=STRUCT([T(1)(dx-2*.03-(dy/10.0)),desk_leg1])\n",
    "    desk_leg3=STRUCT([T(2)(dy-2*.03-(dy/10.0)),desk_leg2])\n",
    "    desk_leg4=STRUCT([T(2)(dy-2*.03-(dy/10.0)),desk_leg1])\n",
    "    legs=STRUCT([desk_leg1,desk_leg2,desk_leg3,desk_leg4])\n",
    "    legs=COLOR(BLACK)(legs)\n",
    "    structZ=.02\n",
    "    structXLong=dx-(2*.03)-(2*(dy/10.0))\n",
    "    structYShort=dy-(2*.03)-(2*(dy/10.0))\n",
    "    struct1=STRUCT([T([1,2,3])([.03+(dy/10.0),.03,dz-(dz/20.0)-structZ]),CUBOID([structXLong,dy/10.0,structZ])])\n",
    "    struct2=STRUCT([T(2)(dy-(2*0.03)-(dy/10.0)),struct1])\n",
    "    struct3=STRUCT([T([1,2,3])([.03,.03+(dy/10.0),dz-(dz/20.0)-structZ]),CUBOID([dy/10.0,structYShort,structZ])])\n",
    "    struct4=STRUCT([T(1)(dx-2*.03-dy/10.0),struct3])\n",
    "    struct=COLOR(BLACK)(STRUCT([struct1,struct2,struct3,struct4]))\n",
    "    bench=STRUCT([plane,legs,struct])\n",
    "    return bench\n",
    "bench=ggpl_bench(1,.5,.7)\n",
    "VIEW(bench)"
   ]
  },
  {
   "cell_type": "code",
   "execution_count": 323,
   "metadata": {
    "collapsed": false
   },
   "outputs": [
    {
     "data": {
      "text/plain": [
       "<pyplasm.xgepy.Hpc; proxy of <Swig Object of type 'std::shared_ptr< Hpc > *' at 0x000000000BB37990> >"
      ]
     },
     "execution_count": 323,
     "metadata": {},
     "output_type": "execute_result"
    }
   ],
   "source": [
    "def ggpl_chair(dx,dy,dz):\n",
    "    plane=CUBOID([dx,dy,.03])\n",
    "    plane=COLOR(GREEN)(plane)\n",
    "    plane=STRUCT([T([2,3])([dy/10.0,dz/2.0]),plane])\n",
    "    desk_leg1=CUBOID([(dx/10.0),(dy/10.0),dz])\n",
    "    desk_leg2=STRUCT([T(1)(dx-dx/10.0),desk_leg1])\n",
    "    desk_leg3=STRUCT([T([1,2])([dx-dx/10.0,dy]),CUBOID([(dx/10.0),(dy/10.0),dz/2.0])])\n",
    "    desk_leg4=STRUCT([T(1)(-dx+dx/10.0),desk_leg3])\n",
    "    legs=STRUCT([desk_leg1,desk_leg2,desk_leg3,desk_leg4])\n",
    "    structPanel1=STRUCT([T([1,3])([dx/10.0,dz-dx/10.0]),CUBOID([dx-2*(dx/10.0),dy/10.0,dx/10.0])])\n",
    "    structPanel2=STRUCT([T(3)(-dx/2.0),structPanel1])\n",
    "    structPanel=STRUCT([structPanel1,structPanel2])\n",
    "    panel=STRUCT([T([2,3])([dy/10.0,dz-dx/2.0-dx/10.0]),CUBOID([dx,.03,dx/10.0+dx/2.0])])\n",
    "    panel=COLOR(GREEN)(panel)\n",
    "    struct1=STRUCT([T([2,3])([dy/10.0,dz/2.0-.03]),CUBOID([dx/10.0,dy-dx/10.0,0.03])])\n",
    "    struct2=STRUCT([T(1)(dx-dx/10.0),struct1])\n",
    "    struct3=STRUCT([T([1,3])([dx/10.0,dz/2.0-.03]),CUBOID([dx-2*dx/10.0,dy/10.0,.03])])\n",
    "    struct4=STRUCT([T(2)(dy),struct3])\n",
    "    struct=STRUCT([struct1,struct2])\n",
    "    totalStruct=STRUCT([legs,structPanel,struct1,struct2,struct3,struct4])\n",
    "    totalStruct=COLOR(BLACK)(totalStruct)\n",
    "    chair=STRUCT([totalStruct,plane,panel])\n",
    "    return chair\n",
    "chair=ggpl_chair(.4,.4,.9)\n",
    "VIEW(chair)"
   ]
  },
  {
   "cell_type": "code",
   "execution_count": 411,
   "metadata": {
    "collapsed": false
   },
   "outputs": [],
   "source": [
    "def ggpl_classroom(dx,dy,dz):\n",
    "    room=CUBOID([dx,dy,dz])\n",
    "    room=SKEL_1(room)\n",
    "    blackboard=ggpl_blackboard(dx/2.5,.02,dz/3)\n",
    "    blackboard=STRUCT([T([1,3])([dx/2.0-(dx/2.5)/2,dz/3.0]),blackboard])\n",
    "    desk=ggpl_desk(dx/2.5,dy/10.0,dz/4.0)\n",
    "    desk=STRUCT([T([1,2])([dx/2.0-(dx/2.5)/2,.5]),desk])\n",
    "    chair=ggpl_chair(dx/17.5,dy/25.0,dz/3.0)\n",
    "    chair=STRUCT([T([1,2])([dx/2.0-(dx/17.5)/2,.2]),chair])\n",
    "    bench=ggpl_bench(dx/7.0,dy/20.0,dz/4.0)\n",
    "    bench=STRUCT([T(2)(dy/7.0+1),bench])\n",
    "    chairStudent=ggpl_chair(dx/17.5,dy/25.0,dz/3.0)\n",
    "    chairStudent=STRUCT([R([1,2])(PI),chairStudent])\n",
    "    chairStudent=STRUCT([T([1,2])([.5*dx/17.5+dx/14.0,dy/7.0+1+dy/20.0+0.05]),chairStudent])\n",
    "    student=STRUCT([bench,chairStudent])\n",
    "    #x=STRUCT([PROD([QUOTE([chairStudent]),QUOTE(5)])])\n",
    "    VIEW(STRUCT([room,blackboard,desk,chair,student]))\n",
    "ggpl_classroom(7,10,3)"
   ]
  },
  {
   "cell_type": "markdown",
   "metadata": {},
   "source": [
    "<h2>Intermediate results</h2>\n",
    "![alt text](bb.jpg)\n",
    "![alt text](desk.jpg)\n",
    "![alt text](desk_below.jpg)\n",
    "![alt text](bench.jpg)\n",
    "![alt text](bench_below.jpg)\n",
    "![alt text](chair.jpg)\n",
    "![alt text](chair_below.jpg)\n",
    "![alt text](classroom_beta.jpg)"
   ]
  },
  {
   "cell_type": "markdown",
   "metadata": {},
   "source": [
    "<h2>Final result!</h2>"
   ]
  }
 ],
 "metadata": {
  "kernelspec": {
   "display_name": "Python 2",
   "language": "python",
   "name": "python2"
  },
  "language_info": {
   "codemirror_mode": {
    "name": "ipython",
    "version": 2
   },
   "file_extension": ".py",
   "mimetype": "text/x-python",
   "name": "python",
   "nbconvert_exporter": "python",
   "pygments_lexer": "ipython2",
   "version": "2.7.12"
  }
 },
 "nbformat": 4,
 "nbformat_minor": 1
}
