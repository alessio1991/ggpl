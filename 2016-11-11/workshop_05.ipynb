{
 "cells": [
  {
   "cell_type": "markdown",
   "metadata": {
    "collapsed": true
   },
   "source": [
    "<h1>Classroom</h1>"
   ]
  },
  {
   "cell_type": "markdown",
   "metadata": {},
   "source": [
    "<h2>Reference models</h2>\n",
    "![alt text](blackboard.png)\n",
    "![alt text](cattedra.jpg)\n",
    "![alt text](banco_sedia.jpg)"
   ]
  },
  {
   "cell_type": "markdown",
   "metadata": {},
   "source": [
    "<h4>Description of the geometric methods i'm going to implement:</h4>\n",
    "Initially I defined different functions each of which goes me to create a different classroom component: blackboard, desk, bench, chair. After, the main function will be to generate the various components by means of those functions, and will place in a suitable manner and proportionate the different parts of the classroom. Below, for each functions that i've implemented, i describe their input and output, and their specifics. The <b>variables</b> are very similar and very simple to understand for each function, and every variable is used for CUBOID, T, COLOR and so on..."
   ]
  },
  {
   "cell_type": "markdown",
   "metadata": {},
   "source": [
    "Import library"
   ]
  },
  {
   "cell_type": "code",
   "execution_count": 1,
   "metadata": {
    "collapsed": false
   },
   "outputs": [
    {
     "name": "stdout",
     "output_type": "stream",
     "text": [
      "Evaluating fenvs.py..\n",
      "...fenvs.py imported in 0.0058495873706 seconds\n"
     ]
    }
   ],
   "source": [
    "from pyplasm import *"
   ]
  },
  {
   "cell_type": "markdown",
   "metadata": {},
   "source": [
    "Define function to create a new blackboard"
   ]
  },
  {
   "cell_type": "code",
   "execution_count": 2,
   "metadata": {
    "collapsed": false
   },
   "outputs": [],
   "source": [
    "\"\"\"input: coordinates\n",
    "   output: hpc object\"\"\"\n",
    "def ggpl_blackboard(dx,dy,dz):\n",
    "    bb=CUBOID([dx,dy,dz])\n",
    "    blackboard=COLOR(BLACK)(bb)\n",
    "    skel=SKEL_1(blackboard)\n",
    "    skel=OFFSET([.05,.05,.05])(skel) #i get a thicness to the blackboard\n",
    "    skelColor=COLOR(BROWN)(skel)\n",
    "    blackb=STRUCT([blackboard,skelColor])\n",
    "    return blackb"
   ]
  },
  {
   "cell_type": "markdown",
   "metadata": {},
   "source": [
    "Define function to create a desk"
   ]
  },
  {
   "cell_type": "code",
   "execution_count": 3,
   "metadata": {
    "collapsed": false
   },
   "outputs": [],
   "source": [
    "\"\"\"input: coordinates\n",
    "   output: hpc object\"\"\"\n",
    "def ggpl_desk(dx,dy,dz):\n",
    "    \n",
    "    #define the plane with opportune traslation\n",
    "    plane=CUBOID([dx,dy,dz/20.0])\n",
    "    plane=COLOR(GREEN)(plane)\n",
    "    plane=STRUCT([T(3)(dz-(dz/20.0)),plane])\n",
    "    \n",
    "    #define the desk's legs with opportune traslations\n",
    "    desk_leg1=STRUCT([T([1,2])([.03,.03]),CUBOID([(dy/10.0),(dy/10.0),(dz-(dz/20.0))])]) #first leg\n",
    "    desk_leg2=STRUCT([T(1)(dx-2*.03-(dy/10.0)),desk_leg1]) #second leg\n",
    "    desk_leg3=STRUCT([T(2)(dy-2*.03-(dy/10.0)),desk_leg2]) #third leg\n",
    "    desk_leg4=STRUCT([T(2)(dy-2*.03-(dy/10.0)),desk_leg1]) #fourth leg\n",
    "    legs=STRUCT([desk_leg1,desk_leg2,desk_leg3,desk_leg4])\n",
    "    legs=COLOR(BLACK)(legs)\n",
    "    \n",
    "    #define the desk's struct under the plane, with opportune traslation\n",
    "    structZ=.02\n",
    "    structXLong=dx-(2*.03)-(2*(dy/10.0))\n",
    "    structYShort=dy-(2*.03)-(2*(dy/10.0))\n",
    "    struct1=STRUCT([T([1,2,3])([.03+(dy/10.0),.03,dz-(dz/20.0)-structZ]),CUBOID([structXLong,dy/10.0,structZ])]) #1 long struct\n",
    "    struct2=STRUCT([T(2)(dy-(2*0.03)-(dy/10.0)),struct1]) #2 long struct\n",
    "    struct3=STRUCT([T([1,2,3])([.03,.03+(dy/10.0),dz-(dz/20.0)-structZ]),CUBOID([dy/10.0,structYShort,structZ])]) #1 short struct\n",
    "    struct4=STRUCT([T(1)(dx-2*.03-dy/10.0),struct3]) #2 short struct\n",
    "    struct=COLOR(BLACK)(STRUCT([struct1,struct2,struct3,struct4]))\n",
    "    \n",
    "    #define the desk's panel with opportune traslations\n",
    "    panel=STRUCT([T([2,3])([dy-.03,dz-(dz/3.0)-(dz/20.0)-structZ]),CUBOID([dx,.03,dz/3.0])])\n",
    "    panel=COLOR(BROWN)(panel)\n",
    "    \n",
    "    #define the desk's drawer with opportune traslation\n",
    "    drawer=STRUCT([T([1,2,3])([dx-0.03-(dy/10.0)-dx/3.0,.03,dz-(dz/5.0)-(dz/20.0)-structZ]),CUBOID([dx/3.0,dy-(2*0.03)-(dy/10.0),dz/5.0])])\n",
    "    drawer=COLOR(BROWN)(drawer)\n",
    "    \n",
    "    #assembl and return all the desk\n",
    "    desk=STRUCT([plane,legs,struct,panel,drawer])\n",
    "    \n",
    "    return desk"
   ]
  },
  {
   "cell_type": "markdown",
   "metadata": {},
   "source": [
    "Define function to create a bench"
   ]
  },
  {
   "cell_type": "code",
   "execution_count": 4,
   "metadata": {
    "collapsed": false
   },
   "outputs": [],
   "source": [
    "\"\"\"input: coordinates\n",
    "   output: hpc object\"\"\"\n",
    "def ggpl_bench(dx,dy,dz):\n",
    "    \n",
    "    #this function is more similar to the precedent function,\n",
    "    #but ther aren't drawer and panel, and there are opportune traslations\n",
    "    plane=CUBOID([dx,dy,dz/20.0])\n",
    "    plane=COLOR(BLUE)(plane)\n",
    "    plane=STRUCT([T(3)(dz-(dz/20.0)),plane])\n",
    "    \n",
    "    desk_leg1=STRUCT([T([1,2])([.03,.03]),CUBOID([(dy/10.0),(dy/10.0),(dz-(dz/20.0))])])\n",
    "    desk_leg2=STRUCT([T(1)(dx-2*.03-(dy/10.0)),desk_leg1])\n",
    "    desk_leg3=STRUCT([T(2)(dy-2*.03-(dy/10.0)),desk_leg2])\n",
    "    desk_leg4=STRUCT([T(2)(dy-2*.03-(dy/10.0)),desk_leg1])\n",
    "    \n",
    "    legs=STRUCT([desk_leg1,desk_leg2,desk_leg3,desk_leg4])\n",
    "    legs=COLOR(BLACK)(legs)\n",
    "    \n",
    "    structZ=.02\n",
    "    structXLong=dx-(2*.03)-(2*(dy/10.0))\n",
    "    structYShort=dy-(2*.03)-(2*(dy/10.0))\n",
    "    struct1=STRUCT([T([1,2,3])([.03+(dy/10.0),.03,dz-(dz/20.0)-structZ]),CUBOID([structXLong,dy/10.0,structZ])])\n",
    "    struct2=STRUCT([T(2)(dy-(2*0.03)-(dy/10.0)),struct1])\n",
    "    struct3=STRUCT([T([1,2,3])([.03,.03+(dy/10.0),dz-(dz/20.0)-structZ]),CUBOID([dy/10.0,structYShort,structZ])])\n",
    "    struct4=STRUCT([T(1)(dx-2*.03-dy/10.0),struct3])\n",
    "    struct=COLOR(BLACK)(STRUCT([struct1,struct2,struct3,struct4]))\n",
    "    \n",
    "    bench=STRUCT([plane,legs,struct])\n",
    "    \n",
    "    return bench"
   ]
  },
  {
   "cell_type": "markdown",
   "metadata": {},
   "source": [
    "Define function to create the chair"
   ]
  },
  {
   "cell_type": "code",
   "execution_count": 5,
   "metadata": {
    "collapsed": false
   },
   "outputs": [],
   "source": [
    "\"\"\"input: coordinates\n",
    "   output: hpc object\"\"\"\n",
    "def ggpl_chair(dx,dy,dz):\n",
    "    \n",
    "    #define the chair's plane for the sitting with opportune traslations\n",
    "    plane=CUBOID([dx,dy,.03])\n",
    "    plane=COLOR(GREEN)(plane)\n",
    "    plane=STRUCT([T([2,3])([dy/10.0,dz/2.0]),plane])\n",
    "    \n",
    "    #define chair's legs with opportune traslations\n",
    "    chair_leg1=CUBOID([(dx/10.0),(dy/10.0),dz]) #1 leg\n",
    "    chair_leg2=STRUCT([T(1)(dx-dx/10.0),chair_leg1]) #2 leg\n",
    "    chair_leg3=STRUCT([T([1,2])([dx-dx/10.0,dy]),CUBOID([(dx/10.0),(dy/10.0),dz/2.0])]) #3 leg\n",
    "    chair_leg4=STRUCT([T(1)(-dx+dx/10.0),chair_leg3]) #4 leg\n",
    "    legs=STRUCT([chair_leg1,chair_leg2,chair_leg3,chair_leg4])\n",
    "    \n",
    "    #define the panel for the back, panel's struct, struct under the plane for sitting\n",
    "    #and total struct \"skeleton\" of the chair with opportune traslations\n",
    "    structPanel1=STRUCT([T([1,3])([dx/10.0,dz-dx/10.0]),CUBOID([dx-2*(dx/10.0),dy/10.0,dx/10.0])]) #1 struct of panel\n",
    "    structPanel2=STRUCT([T(3)(-dx/2.0),structPanel1]) #2 struct panel\n",
    "    structPanel=STRUCT([structPanel1,structPanel2])\n",
    "    \n",
    "    panel=STRUCT([T([2,3])([dy/10.0,dz-dx/2.0-dx/10.0]),CUBOID([dx,.03,dx/10.0+dx/2.0])])\n",
    "    panel=COLOR(GREEN)(panel)\n",
    "    \n",
    "    structPlane1=STRUCT([T([2,3])([dy/10.0,dz/2.0-.03]),CUBOID([dx/10.0,dy-dx/10.0,0.03])])\n",
    "    structPlane2=STRUCT([T(1)(dx-dx/10.0),structPlane1])\n",
    "    structPlane3=STRUCT([T([1,3])([dx/10.0,dz/2.0-.03]),CUBOID([dx-2*dx/10.0,dy/10.0,.03])])\n",
    "    structPlane4=STRUCT([T(2)(dy),structPlane3])\n",
    "    structPlane=STRUCT([structPlane1,structPlane2,structPlane3,structPlane4])\n",
    "    \n",
    "    totalStruct=STRUCT([legs,structPanel,structPlane])\n",
    "    totalStruct=COLOR(BLACK)(totalStruct)\n",
    "    \n",
    "    #assembl and return all the complete chair\n",
    "    chair=STRUCT([totalStruct,plane,panel])\n",
    "    \n",
    "    return chair"
   ]
  },
  {
   "cell_type": "markdown",
   "metadata": {},
   "source": [
    "Define function to create all the classroom with the different component define above"
   ]
  },
  {
   "cell_type": "code",
   "execution_count": 6,
   "metadata": {
    "collapsed": false
   },
   "outputs": [],
   "source": [
    "\"\"\"input: coordinates\n",
    "   output: hpc object\"\"\"\n",
    "def ggpl_classroom(dx,dy,dz):\n",
    "    \n",
    "    #define the skeleton of the classroom\n",
    "    room=CUBOID([dx,dy,dz])\n",
    "    room=SKEL_1(room)\n",
    "    \n",
    "    #define the blackboard with opportune traslation\n",
    "    blackboard=ggpl_blackboard(dx/2.5,.02,dz/3)\n",
    "    blackboard=STRUCT([T([1,3])([dx/2.0-(dx/2.5)/2,dz/3.0]),blackboard])\n",
    "    \n",
    "    #define the desk and the chair of the teacher with the opportune traslation\n",
    "    desk=ggpl_desk(dx/2.5,dy/10.0,dz/4.0)\n",
    "    desk=STRUCT([T([1,2])([dx/2.0-(dx/2.5)/2,.5]),desk])\n",
    "    \n",
    "    chair=ggpl_chair(dx/17.5,dy/25.0,dz/3.0)\n",
    "    chair=STRUCT([T([1,2])([dx/2.0-(dx/17.5)/2,.2]),chair])\n",
    "    \n",
    "    #define the bench and chair of the student\n",
    "    bench=ggpl_bench(dx/7.0,dy/20.0,dz/4.0)\n",
    "    bench=STRUCT([T(2)(dy/7.0+1),bench])\n",
    "    \n",
    "    chairStudent=ggpl_chair(dx/17.5,dy/25.0,dz/3.0)\n",
    "    chairStudent=STRUCT([R([1,2])(PI),chairStudent])\n",
    "    chairStudent=STRUCT([T([1,2])([.5*dx/17.5+dx/14.0,dy/7.0+1+dy/20.0+0.05]),chairStudent])\n",
    "    \n",
    "    #define the struct of bench and chair for one student\n",
    "    student1=STRUCT([bench,chairStudent])\n",
    "    \n",
    "    #define a row with 3 benches/chairs for each\n",
    "    student2=STRUCT([T(1)(dx/2.0-(dx/7.0)/2),student1])\n",
    "    student3=STRUCT([T(1)(dx-dx/7.0),student1])\n",
    "    \n",
    "    #define 4 rows, each with 3 bench and chaird, for a total of 12 student!\n",
    "    first=STRUCT([student1,student2,student3])   \n",
    "    second=STRUCT([T(2)((dy-1)/4.0),first])\n",
    "    third=STRUCT([T(2)((dy-1)/4.0),second])\n",
    "    fourth=STRUCT([T(2)((dy-1)/4.0),third])\n",
    "    \n",
    "    #assembl all inside the room's skeleton: blackboard, desk with chair for teacher,\n",
    "    #and the 4 rows with 3 banches/chairs for the 12 students in the room\n",
    "    VIEW(STRUCT([room,blackboard,desk,chair,first,second,third,fourth]))"
   ]
  },
  {
   "cell_type": "markdown",
   "metadata": {},
   "source": [
    "Launch function"
   ]
  },
  {
   "cell_type": "code",
   "execution_count": 7,
   "metadata": {
    "collapsed": false
   },
   "outputs": [],
   "source": [
    "ggpl_classroom(7,10,3)"
   ]
  },
  {
   "cell_type": "markdown",
   "metadata": {},
   "source": [
    "<h2>Intermediate results</h2>\n",
    "![alt text](bb.jpg)\n",
    "![alt text](bb_2.jpg)\n",
    "![alt text](desk.jpg)\n",
    "![alt text](desk_below.jpg)\n",
    "![alt text](bench.jpg)\n",
    "![alt text](bench_below.jpg)\n",
    "![alt text](chair.jpg)\n",
    "![alt text](chair_below.jpg)\n",
    "![alt text](classroom_beta.jpg)"
   ]
  },
  {
   "cell_type": "markdown",
   "metadata": {},
   "source": [
    "<h2>Final result!</h2>\n",
    "<h3>dx=7, dy=10, dz=3</h3>\n",
    "![alt text](final.jpg)\n",
    "![alt text](final_2.jpg)\n",
    "<h3>dx=5, dy=12, dz=3</h3>\n",
    "![alt text](final2.jpg)\n",
    "![alt text](final2_2.jpg)\n",
    "<h3>dx=7, dy=12, dz=5</h3>\n",
    "![alt text](final3.jpg)\n",
    "![alt text](final3_2.jpg)"
   ]
  },
  {
   "cell_type": "code",
   "execution_count": null,
   "metadata": {
    "collapsed": true
   },
   "outputs": [],
   "source": []
  }
 ],
 "metadata": {
  "kernelspec": {
   "display_name": "Python 2",
   "language": "python",
   "name": "python2"
  },
  "language_info": {
   "codemirror_mode": {
    "name": "ipython",
    "version": 2
   },
   "file_extension": ".py",
   "mimetype": "text/x-python",
   "name": "python",
   "nbconvert_exporter": "python",
   "pygments_lexer": "ipython2",
   "version": "2.7.12"
  }
 },
 "nbformat": 4,
 "nbformat_minor": 1
}
