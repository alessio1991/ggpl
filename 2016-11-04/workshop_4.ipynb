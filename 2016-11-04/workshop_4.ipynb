{
 "cells": [
  {
   "cell_type": "markdown",
   "metadata": {},
   "source": [
    "<h1>Hip roof</h1>"
   ]
  },
  {
   "cell_type": "markdown",
   "metadata": {},
   "source": [
    "<h2>Simple reference model</h2>\n",
    "![alt text](reference_model_simplex.gif)"
   ]
  },
  {
   "cell_type": "markdown",
   "metadata": {},
   "source": [
    "<h2>Complex reference model</h2>\n",
    "![alt text](reference_model_complex.jpg)"
   ]
  },
  {
   "cell_type": "code",
   "execution_count": 119,
   "metadata": {
    "collapsed": false
   },
   "outputs": [],
   "source": [
    "from pyplasm import *\n",
    "verts_simple = [[0,0,0],[20,0,0],[20,10,0],[0,10,0],[5,5,3],[15,5,3],[5,5,0],[15,5,0]]\n",
    "cells_simple = [[1,4,5,7],[1,2,5,6,7,8],[2,6,3,8],[3,4,5,6,7,8]]\n",
    "verts_complex = [[0,10,0],[12,10,0],[12,0,0],[20,0,0],[16,4,0],[16,4,3],[16,15,0],[16,15,3],[20,20,0],[0,20,0],[5,15,0],[5,15,3]]\n",
    "cells_complex = [[1,2,7,8,11,12],[1,11,12,10],[10,11,12,7,8,9],[2,3,5,6,7,8],[4,5,6,7,8,9],[3,4,6]]"
   ]
  },
  {
   "cell_type": "code",
   "execution_count": 120,
   "metadata": {
    "collapsed": false
   },
   "outputs": [],
   "source": [
    "def clean_lists(hpc):\n",
    "    skel = SKEL_1(hpc)\n",
    "    skeleton = OFFSET([.2,.2,.4])(skel)      \n",
    "    skeleton2 = UKPOL(SKEL_2(hpc))    \n",
    "    vert=skeleton2[0]\n",
    "    cell=skeleton2[1]\n",
    "    final=[]\n",
    "    vertex=[]\n",
    "    cells=[]\n",
    "    vertex2=[]\n",
    "    \n",
    "    for c in cell:\n",
    "        f=[]\n",
    "        for v in c:\n",
    "            f.append(vert[v-1])\n",
    "        final.append(f)\n",
    "    \n",
    "    for u in final:\n",
    "        for v in u:\n",
    "            if v not in vertex:\n",
    "                vertex.append(v)\n",
    "            else:\n",
    "                v=vertex.index(v)\n",
    "    \n",
    "    for u in final:\n",
    "        x=[]\n",
    "        for v in u:\n",
    "            x.append(vertex.index(v)+1)\n",
    "        cells.append(x)\n",
    "\n",
    "    cont=0\n",
    "    for v in vertex:\n",
    "        if v[2]>0:\n",
    "            vertex2.append(v)\n",
    "        else:\n",
    "            for v2 in vertex:\n",
    "                if v2[2]>0:\n",
    "                    if v2[0]==v[0] and v2[1]==v[1]:\n",
    "                        vertex2.append(v2)\n",
    "                        cont=1\n",
    "            if not(cont):\n",
    "                vertex2.append(v)\n",
    "            cont=0\n",
    "    \n",
    "    return [vertex2,cells,skeleton]"
   ]
  },
  {
   "cell_type": "code",
   "execution_count": 121,
   "metadata": {
    "collapsed": true
   },
   "outputs": [],
   "source": [
    "def ggpl_hip_roof(verts, cells):\n",
    "    hpc = MKPOL([verts,cells,None])\n",
    "    lists = clean_lists(hpc)\n",
    "    vertex2 = lists[0]\n",
    "    cell = lists[1]\n",
    "    skeleton = lists[2]\n",
    "    coverMkp=MKPOL([vertex2,cell,None])\n",
    "    coverStr=STRUCT([T(3)(.2),coverMkp])\n",
    "    coverOff=OFFSET([.2,.2,.4])(coverStr)\n",
    "    skeleton=COLOR(BLACK)(skeleton)\n",
    "    roof= STRUCT([coverOff,skeleton]) \n",
    "    return roof"
   ]
  },
  {
   "cell_type": "code",
   "execution_count": 122,
   "metadata": {
    "collapsed": false
   },
   "outputs": [
    {
     "data": {
      "text/plain": [
       "<pyplasm.xgepy.Hpc; proxy of <Swig Object of type 'std::shared_ptr< Hpc > *' at 0x000000000B14FDE0> >"
      ]
     },
     "execution_count": 122,
     "metadata": {},
     "output_type": "execute_result"
    }
   ],
   "source": [
    "roof = ggpl_hip_roof(verts_simple,cells_simple)\n",
    "VIEW(roof)"
   ]
  },
  {
   "cell_type": "markdown",
   "metadata": {},
   "source": [
    "<h2>Final result (simple)</h2>\n",
    "![alt text](hip_roof_simple.jpg)\n",
    "![alt text](hip_roof_simple_under.jpg)"
   ]
  },
  {
   "cell_type": "markdown",
   "metadata": {},
   "source": [
    "<h2>Final result (complex)</h2>\n",
    "![alt text](skeleton_complex.jpg)\n",
    "![alt text](hip_roof_complex.jpg)"
   ]
  }
 ],
 "metadata": {
  "kernelspec": {
   "display_name": "Python 2",
   "language": "python",
   "name": "python2"
  },
  "language_info": {
   "codemirror_mode": {
    "name": "ipython",
    "version": 2
   },
   "file_extension": ".py",
   "mimetype": "text/x-python",
   "name": "python",
   "nbconvert_exporter": "python",
   "pygments_lexer": "ipython2",
   "version": "2.7.12"
  }
 },
 "nbformat": 4,
 "nbformat_minor": 1
}
