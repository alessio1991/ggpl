{
 "cells": [
  {
   "cell_type": "markdown",
   "metadata": {},
   "source": [
    "<h1>Hip roof</h1>"
   ]
  },
  {
   "cell_type": "markdown",
   "metadata": {},
   "source": [
    "<h2>Simple reference model</h2>\n",
    "![alt text](reference_model_simplex.gif)"
   ]
  },
  {
   "cell_type": "code",
   "execution_count": 346,
   "metadata": {
    "collapsed": false,
    "scrolled": true
   },
   "outputs": [],
   "source": [
    "from pyplasm import *\n",
    "def roof_simple():\n",
    "    verts = [[0,0,0],[20,0,0],[20,10,0],[0,10,0],[5,5,3],[15,5,3],[5,5,0],[15,5,0]]\n",
    "    cells = [[1,4,5,7],[1,2,5,6,7,8],[2,6,3,8],[3,4,5,6,7,8]]\n",
    "    roof = MKPOL([verts, cells, None])\n",
    "    return roof"
   ]
  },
  {
   "cell_type": "code",
   "execution_count": 347,
   "metadata": {
    "collapsed": false,
    "scrolled": true
   },
   "outputs": [
    {
     "data": {
      "text/plain": [
       "<pyplasm.xgepy.Hpc; proxy of <Swig Object of type 'std::shared_ptr< Hpc > *' at 0x000000000AA28960> >"
      ]
     },
     "execution_count": 347,
     "metadata": {},
     "output_type": "execute_result"
    }
   ],
   "source": [
    "roof_simple = roof_simple()\n",
    "skeleton_roof_simple = SKEL_1(roof_simple)\n",
    "VIEW(OFFSET([.2,.2,.4])(skeleton_roof_simple))"
   ]
  },
  {
   "cell_type": "markdown",
   "metadata": {},
   "source": [
    "<h2>Final result (simple)</h2>\n",
    "![alt text](skeleton_simple.jpg)\n",
    "![alt text](hip_roof_simple.jpg)"
   ]
  },
  {
   "cell_type": "markdown",
   "metadata": {},
   "source": [
    "<h2>Complex reference model</h2>\n",
    "![alt text](reference_model_complex.jpg)"
   ]
  },
  {
   "cell_type": "code",
   "execution_count": 342,
   "metadata": {
    "collapsed": false
   },
   "outputs": [],
   "source": [
    "def roof_complex():\n",
    "    verts = [[0,10,0],[12,10,0],[12,0,0],[20,0,0],[16,4,0],[16,4,3],[16,15,0],[16,15,3],[20,20,0],[0,20,0],[5,15,0],[5,15,3]]\n",
    "    cells = [[1,2,7,8,11,12],[1,11,12,10],[10,11,12,7,8,9],[2,3,5,6,7,8],[4,5,6,7,8,9],[3,4,6]]\n",
    "    roof = MKPOL([verts, cells, None])\n",
    "    return roof"
   ]
  },
  {
   "cell_type": "code",
   "execution_count": 343,
   "metadata": {
    "collapsed": false
   },
   "outputs": [
    {
     "name": "stdout",
     "output_type": "stream",
     "text": [
      "[[12.0, 10.0, 0.0], [16.0, 15.0, 3.0], [12.0, 10.000000953674316, 0.0], [0.0, 10.0, 0.0], [9.5367431640625e-07, 10.0, 0.0], [5.0, 15.0, 3.0], [0.0, 20.0, 0.0], [4.999999046325684, 15.0, 0.0], [20.0, 20.0, 0.0], [12.0, 4.76837158203125e-07, 0.0], [16.0, 4.0, 3.0], [12.0, 9.5367431640625e-07, 0.0], [12.0, 0.0, 0.0], [12.000000953674316, 10.0, 0.0], [20.0, 0.0, 0.0], [20.0, 9.5367431640625e-07, 0.0], [20.0, 7.152557373046875e-07, 7.152557373046875e-07], [16.0, 3.9999992847442627, 3.0], [12.0, 7.152557373046875e-07, 7.152557373046875e-07]]\n"
     ]
    },
    {
     "data": {
      "text/plain": [
       "<pyplasm.xgepy.Hpc; proxy of <Swig Object of type 'std::shared_ptr< Hpc > *' at 0x000000000AA28990> >"
      ]
     },
     "execution_count": 343,
     "metadata": {},
     "output_type": "execute_result"
    }
   ],
   "source": [
    "roof_complex = roof_complex()\n",
    "skeleton_roof_complex = SKEL_1(roof_complex)\n",
    "verts=UKPOL(skeleton_roof_complex)\n",
    "newVerts=[]\n",
    "bassi=[]\n",
    "newSkeleton=[]\n",
    "\n",
    "for i in range(0,len(verts[0])):\n",
    "    elem=verts[0][i]\n",
    "    if elem[0]>=0 and elem[1]>=0 and elem[2]==0:\n",
    "        newVerts.append(elem)\n",
    "    if elem[0]>=0 and elem[1]>=0 and elem[2]>0:\n",
    "        newVerts.append(elem)\n",
    "        x=elem[0]\n",
    "        y=elem[1]\n",
    "        bassi.append([x,y])\n",
    "for j in range(0,len(newVerts)):\n",
    "    elem2=newVerts[j]\n",
    "    x=elem2[0]\n",
    "    y=elem2[1]\n",
    "    elemBasso=[x,y]\n",
    "    if elem2[2]==0 and elemBasso not in bassi and elem2 not in newSkeleton:\n",
    "        newSkeleton.append(elem2)\n",
    "    elif elem2[2]!=0 and elem2 not in newSkeleton:\n",
    "        newSkeleton.append(elem2)\n",
    "\n",
    "print(newSkeleton)\n",
    "VIEW(OFFSET([.2,.2,.4])(skeleton_roof_complex))"
   ]
  },
  {
   "cell_type": "markdown",
   "metadata": {
    "collapsed": true
   },
   "source": [
    "<h2>Final result (complex)</h2>\n",
    "![alt text](skeleton_complex.jpg)\n",
    "![alt text](hip_roof_complex.jpg)"
   ]
  }
 ],
 "metadata": {
  "kernelspec": {
   "display_name": "Python 2",
   "language": "python",
   "name": "python2"
  },
  "language_info": {
   "codemirror_mode": {
    "name": "ipython",
    "version": 2
   },
   "file_extension": ".py",
   "mimetype": "text/x-python",
   "name": "python",
   "nbconvert_exporter": "python",
   "pygments_lexer": "ipython2",
   "version": "2.7.12"
  }
 },
 "nbformat": 4,
 "nbformat_minor": 1
}
