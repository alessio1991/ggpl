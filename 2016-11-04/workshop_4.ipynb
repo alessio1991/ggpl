{
 "cells": [
  {
   "cell_type": "markdown",
   "metadata": {},
   "source": [
    "<h1>Hip roof</h1>"
   ]
  },
  {
   "cell_type": "markdown",
   "metadata": {},
   "source": [
    "<h2>Simple reference model</h2>\n",
    "![alt text](reference_model_simplex.gif)"
   ]
  },
  {
   "cell_type": "markdown",
   "metadata": {},
   "source": [
    "<h2>Complex reference model</h2>\n",
    "![alt text](reference_model_complex.jpg)"
   ]
  },
  {
   "cell_type": "markdown",
   "metadata": {},
   "source": [
    "<h4>Variables:</h4>  <b>skel</b>: input hpc's 1 skeleton, \n",
    "                     <b>skeleton</b>: skeleton's offset, \n",
    "                     <b>skeleton2</b>: ukpol of 2 skeleton of hpc, \n",
    "                     <b>vert</b>: verts's list of hpc's 2-skeleton, \n",
    "                     <b>cell</b>: cells's list of hpc's 2-skeleton, \n",
    "                     <b>final</b>: list to sostitute the verts's index with their real values, \n",
    "                     <b>vertex</b>: support's list to new verts's list updated, \n",
    "                     <b>cells</b>: updated cells's list, \n",
    "                     <b>vertex2</b>: updated verts's list, \n",
    "                     <b>coverMkp</b>: cover makepol by verts and cells, \n",
    "                     <b>coverStr</b>: cover traslate on z, \n",
    "                     <b>coverOff</b>: offset cover, \n",
    "                     <b>roof</b>: struct of skeleton and cover to create the final roof in output."
   ]
  },
  {
   "cell_type": "markdown",
   "metadata": {},
   "source": [
    "<h4>Description of the geometric methods i'm going to implement:</h4>\n",
    "Before the definition of the main function, I used a support function to create the skeleton of the roof, which takes as input a hpc created as MKPOL of vertices and early defined cells. I memorize the 1-skeleton of the hpc (roof structure), the offset 0.2x0.2x0.4 of the 1-skeleton, and UKPOL of the 2-skeleton of hpc (values ​​of vertices and convex cells) , then divide the lists of vertices and cells. With UKPOL I have noticed that there are many values ​​than those profits, many of which are repeated values ​​or useless, so the goal of this function is to clean up these lists as the values ​​are not needed, so I use several support lists . Before I used a list of cells where the values ​​of the indices are replaced with the values ​​that really assume, that xyz (final), then this list is cleaned by duplication (vertex), then the list of the cells was clean by not precise values or useless for our purposes, it was finally clean the list of vertices of those points that are the projection of the vertices that have a z> 0. This function returns a list consisting of clean verts, clean cells and the skeleton.\n",
    "Finally, the main function takes as input a list of vertices and a list of cells defined at the beginning, with these values ​​through MKPOL creating the hpc object that is given as input to the previous function thus allowing the cleaning of the vertices and cells, finally on this clean structure will be given the coverage that will form the final roof."
   ]
  },
  {
   "cell_type": "markdown",
   "metadata": {},
   "source": [
    "Import library and define simple and complex verts and cells for the definition of the hip roof"
   ]
  },
  {
   "cell_type": "code",
   "execution_count": 9,
   "metadata": {
    "collapsed": false
   },
   "outputs": [],
   "source": [
    "from pyplasm import *\n",
    "\n",
    "verts_simple = [[0,0,0],[20,0,0],[20,10,0],[0,10,0],[5,5,3],[15,5,3],[5,5,0],[15,5,0]]\n",
    "cells_simple = [[1,4,5,7],[1,2,5,6,7,8],[2,6,3,8],[3,4,5,6,7,8]]\n",
    "\n",
    "verts_complex = [[0,10,0],[12,10,0],[12,0,0],[20,0,0],[16,4,0],[16,15,0],[20,20,0],[0,20,0],[5,15,0],[16,4,3],[16,15,3],[5,15,3]]\n",
    "cells_complex = [[1,8,9,12],[1,2,6,9,11,12],[2,3,5,6,10,11],[6,7,8,9,11,12],[4,5,6,7,10,11],[3,4,5,10]]"
   ]
  },
  {
   "cell_type": "markdown",
   "metadata": {},
   "source": [
    "Define support function to clean the lists of verts and cells from the unutil values"
   ]
  },
  {
   "cell_type": "code",
   "execution_count": 10,
   "metadata": {
    "collapsed": false
   },
   "outputs": [],
   "source": [
    "\"\"\"Input: hpc object\n",
    "   Output: lists of clean verts, cells and skeleton of the hip roof\"\"\"\n",
    "\n",
    "def clean_lists(hpc):\n",
    "    \n",
    "    #generate 1-skeleton and ukpol 2-skeleton of the input hpc, verts and cell of 2-skeleton, and define lists's support\n",
    "    skel = SKEL_1(hpc)\n",
    "    skeleton = OFFSET([.2,.2,.4])(skel)      \n",
    "    skeleton2 = UKPOL(SKEL_2(hpc))    \n",
    "    vert=skeleton2[0]\n",
    "    cell=skeleton2[1]\n",
    "    final=[]\n",
    "    vertex=[]\n",
    "    cells=[]\n",
    "    vertex2=[]\n",
    "    \n",
    "    #sostitute  the verts's index with their real values\n",
    "    for c in cell:\n",
    "        f=[]\n",
    "        for v in c:\n",
    "            f.append(vert[v-1])\n",
    "        final.append(f)\n",
    "        \n",
    "    #delete double values\n",
    "    for u in final:\n",
    "        for v in u:\n",
    "            if v not in vertex:\n",
    "                vertex.append(v)\n",
    "            else:\n",
    "                v=vertex.index(v)\n",
    "                \n",
    "    #correct values\n",
    "    for u in final:\n",
    "        x=[]\n",
    "        for v in u:\n",
    "            x.append(vertex.index(v)+1)\n",
    "        cells.append(x)\n",
    "    \n",
    "    #delete verts that are projection on x-y\n",
    "    cont=0\n",
    "    for v in vertex:\n",
    "        if v[2]>0:\n",
    "            vertex2.append(v)\n",
    "        else:\n",
    "            for v2 in vertex:\n",
    "                if v2[2]>0:\n",
    "                    if v2[0]==v[0] and v2[1]==v[1]:\n",
    "                        vertex2.append(v2)\n",
    "                        cont=1\n",
    "            if not(cont):\n",
    "                vertex2.append(v)\n",
    "            cont=0\n",
    "    \n",
    "    #return clean lists of verts, cells and skeleton\n",
    "    return [vertex2,cells,skeleton]"
   ]
  },
  {
   "cell_type": "markdown",
   "metadata": {},
   "source": [
    "Define principle function tha give in input lists of verts and cells, and create the final hip roof in output"
   ]
  },
  {
   "cell_type": "code",
   "execution_count": 11,
   "metadata": {
    "collapsed": true
   },
   "outputs": [],
   "source": [
    "\"\"\"Input: lists of verts and cells\n",
    "   Output: hip roof as a STRUCT of cover and skeleton\"\"\"\n",
    "\n",
    "def ggpl_hip_roof(verts, cells):\n",
    "    \n",
    "    #generate hpc object starting input, and give it to the precedent function\n",
    "    hpc = MKPOL([verts,cells,None])\n",
    "    lists = clean_lists(hpc)\n",
    "    \n",
    "    #divide the lists returned by 'clean_lists(hpc)'\n",
    "    vertex2 = lists[0]\n",
    "    cell = lists[1]\n",
    "    skeleton = lists[2]\n",
    "    \n",
    "    #generate cover, skeleton and struct all\n",
    "    coverMkp=MKPOL([vertex2,cell,None])\n",
    "    coverStr=STRUCT([T(3)(.2),coverMkp])\n",
    "    coverOff=OFFSET([.2,.2,.4])(coverStr)\n",
    "    skeleton=COLOR(BLACK)(skeleton)\n",
    "    roof= STRUCT([coverOff,skeleton]) \n",
    "    \n",
    "    return roof"
   ]
  },
  {
   "cell_type": "markdown",
   "metadata": {},
   "source": [
    "Launch function"
   ]
  },
  {
   "cell_type": "code",
   "execution_count": 12,
   "metadata": {
    "collapsed": false
   },
   "outputs": [
    {
     "data": {
      "text/plain": [
       "<pyplasm.xgepy.Hpc; proxy of <Swig Object of type 'std::shared_ptr< Hpc > *' at 0x0000000004D02450> >"
      ]
     },
     "execution_count": 12,
     "metadata": {},
     "output_type": "execute_result"
    }
   ],
   "source": [
    "roof = ggpl_hip_roof(verts_complex,cells_complex)\n",
    "VIEW(roof)"
   ]
  },
  {
   "cell_type": "markdown",
   "metadata": {},
   "source": [
    "<h2>Final result (simple)</h2>\n",
    "![alt text](hip_roof_simple.jpg)\n",
    "![alt text](hip_roof_simple_under.jpg)"
   ]
  },
  {
   "cell_type": "markdown",
   "metadata": {},
   "source": [
    "<h2>Final result (complex)</h2>\n",
    "![alt text](skeleton_complex.jpg)\n",
    "![alt text](hip_roof_complex.jpg)"
   ]
  }
 ],
 "metadata": {
  "kernelspec": {
   "display_name": "Python 2",
   "language": "python",
   "name": "python2"
  },
  "language_info": {
   "codemirror_mode": {
    "name": "ipython",
    "version": 2
   },
   "file_extension": ".py",
   "mimetype": "text/x-python",
   "name": "python",
   "nbconvert_exporter": "python",
   "pygments_lexer": "ipython2",
   "version": "2.7.12"
  }
 },
 "nbformat": 4,
 "nbformat_minor": 1
}
